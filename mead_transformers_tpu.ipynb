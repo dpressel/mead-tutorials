{
  "nbformat": 4,
  "nbformat_minor": 0,
  "metadata": {
    "colab": {
      "name": "mead-transformers-tpu.ipynb",
      "provenance": [],
      "collapsed_sections": []
    },
    "kernelspec": {
      "name": "python3",
      "display_name": "Python 3"
    },
    "accelerator": "TPU"
  },
  "cells": [
    {
      "cell_type": "markdown",
      "metadata": {
        "id": "mC2DpvRTxA_I",
        "colab_type": "text"
      },
      "source": [
        "## Training Transformers on TPUs with the API\n",
        "\n",
        "In this example, we will demonstrate code to train Transformers on a TPU using MEAD/Baseline in TensorFlow.  The basic outline of the program is based on the API example [pretrain-tlm-tf](https://github.com/dpressel/mead-baseline/blob/master/api-examples/pretrain-tlm-tf.py).\n",
        "\n",
        "The data for this sample is a preprocessed version of [wikitext-2](https://www.salesforce.com/products/einstein/ai-research/the-wikitext-dependency-language-modeling-dataset/) available from a GCP bucket. It was preprocessed from the original data using the API example [preproc-tlm](https://github.com/dpressel/mead-baseline/blob/master/api-examples/pretrain-tlm-tf.py) with command-line args specified to generate [TFRecords](https://www.tensorflow.org/tutorials/load_data/tfrecord).  To access them, we need to start by authenticating our colab user."
      ]
    },
    {
      "cell_type": "code",
      "metadata": {
        "id": "g0TvXEMqA50x",
        "colab_type": "code",
        "outputId": "0beb8a3e-3630-477a-cd92-4cedef2e041f",
        "colab": {
          "base_uri": "https://localhost:8080/",
          "height": 34
        }
      },
      "source": [
        "from google.colab import auth\n",
        "import os\n",
        "auth.authenticate_user()\n",
        "\n",
        "!gsutil ls gs://lm-sample\n",
        "os.environ['COLAB_SKIP_TPU_AUTH'] = '1'"
      ],
      "execution_count": 4,
      "outputs": [
        {
          "output_type": "stream",
          "text": [
            "gs://lm-sample/wt2/\n"
          ],
          "name": "stdout"
        }
      ]
    },
    {
      "cell_type": "markdown",
      "metadata": {
        "id": "4qh4tPpgyB-1",
        "colab_type": "text"
      },
      "source": [
        "The meta-data we need to process this example is publicly available on dropbox, and was previously processed with [preproc-tlm](https://github.com/dpressel/mead-baseline/blob/master/api-examples/pretrain-tlm-tf.py) (to generate the `YAML` md files), and [fastBPE](https://github.com/glample/fastBPE) was run to generate the vocab and codes files.\n"
      ]
    },
    {
      "cell_type": "code",
      "metadata": {
        "id": "iqCanwBPaT-G",
        "colab_type": "code",
        "outputId": "9c5772ec-2e0f-4559-b5ec-f8432c2c1d15",
        "colab": {
          "base_uri": "https://localhost:8080/",
          "height": 377
        }
      },
      "source": [
        "\n",
        "!wget https://www.dropbox.com/s/yaqs2dx51kc4sb2/wt2-md.tar.gz?dl=1\n",
        "!tar -xzf wt2-md.tar.gz?dl=1\n",
        "!rm wt2-md.tar.gz?dl=1"
      ],
      "execution_count": 5,
      "outputs": [
        {
          "output_type": "stream",
          "text": [
            "--2020-06-01 18:39:11--  https://www.dropbox.com/s/yaqs2dx51kc4sb2/wt2-md.tar.gz?dl=1\n",
            "Resolving www.dropbox.com (www.dropbox.com)... 162.125.3.1, 2620:100:6018:1::a27d:301\n",
            "Connecting to www.dropbox.com (www.dropbox.com)|162.125.3.1|:443... connected.\n",
            "HTTP request sent, awaiting response... 301 Moved Permanently\n",
            "Location: /s/dl/yaqs2dx51kc4sb2/wt2-md.tar.gz [following]\n",
            "--2020-06-01 18:39:11--  https://www.dropbox.com/s/dl/yaqs2dx51kc4sb2/wt2-md.tar.gz\n",
            "Reusing existing connection to www.dropbox.com:443.\n",
            "HTTP request sent, awaiting response... 302 Found\n",
            "Location: https://uc89ff4227cc8ccb46e05561eeae.dl.dropboxusercontent.com/cd/0/get/A409dLphO78nEZET1DrSwGg48bt1DRrZ33c_shCELktXgGhHgXJS_eVTk0C8sP2kecagYUbhqOuVSQ-8liDkGTWGbly2gU8ysaAwtQB7soU-HYw8mCLrkdKFXcK947E8ENk/file?dl=1# [following]\n",
            "--2020-06-01 18:39:11--  https://uc89ff4227cc8ccb46e05561eeae.dl.dropboxusercontent.com/cd/0/get/A409dLphO78nEZET1DrSwGg48bt1DRrZ33c_shCELktXgGhHgXJS_eVTk0C8sP2kecagYUbhqOuVSQ-8liDkGTWGbly2gU8ysaAwtQB7soU-HYw8mCLrkdKFXcK947E8ENk/file?dl=1\n",
            "Resolving uc89ff4227cc8ccb46e05561eeae.dl.dropboxusercontent.com (uc89ff4227cc8ccb46e05561eeae.dl.dropboxusercontent.com)... 162.125.3.6, 2620:100:6018:6::a27d:306\n",
            "Connecting to uc89ff4227cc8ccb46e05561eeae.dl.dropboxusercontent.com (uc89ff4227cc8ccb46e05561eeae.dl.dropboxusercontent.com)|162.125.3.6|:443... connected.\n",
            "HTTP request sent, awaiting response... 200 OK\n",
            "Length: 438482 (428K) [application/binary]\n",
            "Saving to: ‘wt2-md.tar.gz?dl=1’\n",
            "\n",
            "wt2-md.tar.gz?dl=1  100%[===================>] 428.21K  --.-KB/s    in 0.05s   \n",
            "\n",
            "2020-06-01 18:39:12 (8.77 MB/s) - ‘wt2-md.tar.gz?dl=1’ saved [438482/438482]\n",
            "\n"
          ],
          "name": "stdout"
        }
      ]
    },
    {
      "cell_type": "code",
      "metadata": {
        "id": "AfG2WzmaWgPz",
        "colab_type": "code",
        "outputId": "b5057c4b-3295-4889-b41f-2224a7336b15",
        "colab": {
          "base_uri": "https://localhost:8080/",
          "height": 34
        }
      },
      "source": [
        "!ls\n"
      ],
      "execution_count": 6,
      "outputs": [
        {
          "output_type": "stream",
          "text": [
            "adc.json  sample_data  wt2\n"
          ],
          "name": "stdout"
        }
      ]
    },
    {
      "cell_type": "markdown",
      "metadata": {
        "id": "KuLRafQAy9-p",
        "colab_type": "text"
      },
      "source": [
        "To run our example, we need to install TensorFlow, [fastBPE](https://github.com/glample/fastBPE), and MEAD/Baseline with [TensorFlow addons](https://www.tensorflow.org/addons/overview).  If you get an error at the end of this command, run it a second time."
      ]
    },
    {
      "cell_type": "code",
      "metadata": {
        "id": "MN9XRH6eBnj4",
        "colab_type": "code",
        "outputId": "0a683779-fdc4-4e4d-9d7b-ee44819c2ed0",
        "colab": {
          "base_uri": "https://localhost:8080/",
          "height": 836
        }
      },
      "source": [
        "!pip install tensorflow\n",
        "!pip install fastBPE\n",
        "!pip install mead-baseline[tf2]"
      ],
      "execution_count": 9,
      "outputs": [
        {
          "output_type": "stream",
          "text": [
            "Requirement already satisfied: tensorflow in /usr/local/lib/python3.6/dist-packages (2.2.0)\n",
            "Requirement already satisfied: protobuf>=3.8.0 in /usr/local/lib/python3.6/dist-packages (from tensorflow) (3.10.0)\n",
            "Requirement already satisfied: tensorflow-estimator<2.3.0,>=2.2.0 in /usr/local/lib/python3.6/dist-packages (from tensorflow) (2.2.0)\n",
            "Requirement already satisfied: scipy==1.4.1; python_version >= \"3\" in /usr/local/lib/python3.6/dist-packages (from tensorflow) (1.4.1)\n",
            "Requirement already satisfied: astunparse==1.6.3 in /usr/local/lib/python3.6/dist-packages (from tensorflow) (1.6.3)\n",
            "Requirement already satisfied: h5py<2.11.0,>=2.10.0 in /usr/local/lib/python3.6/dist-packages (from tensorflow) (2.10.0)\n",
            "Requirement already satisfied: google-pasta>=0.1.8 in /usr/local/lib/python3.6/dist-packages (from tensorflow) (0.2.0)\n",
            "Requirement already satisfied: keras-preprocessing>=1.1.0 in /usr/local/lib/python3.6/dist-packages (from tensorflow) (1.1.2)\n",
            "Requirement already satisfied: tensorboard<2.3.0,>=2.2.0 in /usr/local/lib/python3.6/dist-packages (from tensorflow) (2.2.1)\n",
            "Requirement already satisfied: six>=1.12.0 in /usr/local/lib/python3.6/dist-packages (from tensorflow) (1.12.0)\n",
            "Requirement already satisfied: wrapt>=1.11.1 in /usr/local/lib/python3.6/dist-packages (from tensorflow) (1.12.1)\n",
            "Requirement already satisfied: absl-py>=0.7.0 in /usr/local/lib/python3.6/dist-packages (from tensorflow) (0.9.0)\n",
            "Requirement already satisfied: opt-einsum>=2.3.2 in /usr/local/lib/python3.6/dist-packages (from tensorflow) (3.2.1)\n",
            "Requirement already satisfied: termcolor>=1.1.0 in /usr/local/lib/python3.6/dist-packages (from tensorflow) (1.1.0)\n",
            "Requirement already satisfied: grpcio>=1.8.6 in /usr/local/lib/python3.6/dist-packages (from tensorflow) (1.29.0)\n",
            "Requirement already satisfied: gast==0.3.3 in /usr/local/lib/python3.6/dist-packages (from tensorflow) (0.3.3)\n",
            "Requirement already satisfied: wheel>=0.26; python_version >= \"3\" in /usr/local/lib/python3.6/dist-packages (from tensorflow) (0.34.2)\n",
            "Requirement already satisfied: numpy<2.0,>=1.16.0 in /usr/local/lib/python3.6/dist-packages (from tensorflow) (1.18.4)\n",
            "Requirement already satisfied: setuptools in /usr/local/lib/python3.6/dist-packages (from protobuf>=3.8.0->tensorflow) (47.1.1)\n",
            "Requirement already satisfied: requests<3,>=2.21.0 in /usr/local/lib/python3.6/dist-packages (from tensorboard<2.3.0,>=2.2.0->tensorflow) (2.23.0)\n",
            "Requirement already satisfied: google-auth-oauthlib<0.5,>=0.4.1 in /usr/local/lib/python3.6/dist-packages (from tensorboard<2.3.0,>=2.2.0->tensorflow) (0.4.1)\n",
            "Requirement already satisfied: markdown>=2.6.8 in /usr/local/lib/python3.6/dist-packages (from tensorboard<2.3.0,>=2.2.0->tensorflow) (3.2.2)\n",
            "Requirement already satisfied: tensorboard-plugin-wit>=1.6.0 in /usr/local/lib/python3.6/dist-packages (from tensorboard<2.3.0,>=2.2.0->tensorflow) (1.6.0.post3)\n",
            "Requirement already satisfied: google-auth<2,>=1.6.3 in /usr/local/lib/python3.6/dist-packages (from tensorboard<2.3.0,>=2.2.0->tensorflow) (1.7.2)\n",
            "Requirement already satisfied: werkzeug>=0.11.15 in /usr/local/lib/python3.6/dist-packages (from tensorboard<2.3.0,>=2.2.0->tensorflow) (1.0.1)\n",
            "Requirement already satisfied: urllib3!=1.25.0,!=1.25.1,<1.26,>=1.21.1 in /usr/local/lib/python3.6/dist-packages (from requests<3,>=2.21.0->tensorboard<2.3.0,>=2.2.0->tensorflow) (1.24.3)\n",
            "Requirement already satisfied: certifi>=2017.4.17 in /usr/local/lib/python3.6/dist-packages (from requests<3,>=2.21.0->tensorboard<2.3.0,>=2.2.0->tensorflow) (2020.4.5.1)\n",
            "Requirement already satisfied: chardet<4,>=3.0.2 in /usr/local/lib/python3.6/dist-packages (from requests<3,>=2.21.0->tensorboard<2.3.0,>=2.2.0->tensorflow) (3.0.4)\n",
            "Requirement already satisfied: idna<3,>=2.5 in /usr/local/lib/python3.6/dist-packages (from requests<3,>=2.21.0->tensorboard<2.3.0,>=2.2.0->tensorflow) (2.9)\n",
            "Requirement already satisfied: requests-oauthlib>=0.7.0 in /usr/local/lib/python3.6/dist-packages (from google-auth-oauthlib<0.5,>=0.4.1->tensorboard<2.3.0,>=2.2.0->tensorflow) (1.3.0)\n",
            "Requirement already satisfied: importlib-metadata; python_version < \"3.8\" in /usr/local/lib/python3.6/dist-packages (from markdown>=2.6.8->tensorboard<2.3.0,>=2.2.0->tensorflow) (1.6.0)\n",
            "Requirement already satisfied: pyasn1-modules>=0.2.1 in /usr/local/lib/python3.6/dist-packages (from google-auth<2,>=1.6.3->tensorboard<2.3.0,>=2.2.0->tensorflow) (0.2.8)\n",
            "Requirement already satisfied: rsa<4.1,>=3.1.4 in /usr/local/lib/python3.6/dist-packages (from google-auth<2,>=1.6.3->tensorboard<2.3.0,>=2.2.0->tensorflow) (4.0)\n",
            "Requirement already satisfied: cachetools<3.2,>=2.0.0 in /usr/local/lib/python3.6/dist-packages (from google-auth<2,>=1.6.3->tensorboard<2.3.0,>=2.2.0->tensorflow) (3.1.1)\n",
            "Requirement already satisfied: oauthlib>=3.0.0 in /usr/local/lib/python3.6/dist-packages (from requests-oauthlib>=0.7.0->google-auth-oauthlib<0.5,>=0.4.1->tensorboard<2.3.0,>=2.2.0->tensorflow) (3.1.0)\n",
            "Requirement already satisfied: zipp>=0.5 in /usr/local/lib/python3.6/dist-packages (from importlib-metadata; python_version < \"3.8\"->markdown>=2.6.8->tensorboard<2.3.0,>=2.2.0->tensorflow) (3.1.0)\n",
            "Requirement already satisfied: pyasn1<0.5.0,>=0.4.6 in /usr/local/lib/python3.6/dist-packages (from pyasn1-modules>=0.2.1->google-auth<2,>=1.6.3->tensorboard<2.3.0,>=2.2.0->tensorflow) (0.4.8)\n",
            "Requirement already satisfied: fastBPE in /usr/local/lib/python3.6/dist-packages (0.1.0)\n",
            "Collecting mead-baseline[tf2]\n",
            "  Using cached https://files.pythonhosted.org/packages/6a/85/4974a12edea27b31b2dd6caf3ec75b78c31a3a09c3d2494cf4d0b781f87f/mead_baseline-2.0.3-py3-none-any.whl\n",
            "Requirement already satisfied: six in /usr/local/lib/python3.6/dist-packages (from mead-baseline[tf2]) (1.12.0)\n",
            "Requirement already satisfied: mead-layers==2.0.3 in /usr/local/lib/python3.6/dist-packages (from mead-baseline[tf2]) (2.0.3)\n",
            "Requirement already satisfied: numpy in /usr/local/lib/python3.6/dist-packages (from mead-baseline[tf2]) (1.18.4)\n",
            "Requirement already satisfied: tensorflow-addons; extra == \"tf2\" in /usr/local/lib/python3.6/dist-packages (from mead-baseline[tf2]) (0.8.3)\n",
            "Requirement already satisfied: typeguard in /usr/local/lib/python3.6/dist-packages (from tensorflow-addons; extra == \"tf2\"->mead-baseline[tf2]) (2.7.1)\n",
            "Installing collected packages: mead-baseline\n",
            "Successfully installed mead-baseline-2.0.3\n"
          ],
          "name": "stdout"
        }
      ]
    },
    {
      "cell_type": "markdown",
      "metadata": {
        "id": "3NtsNn6Hzc8G",
        "colab_type": "text"
      },
      "source": [
        "To run our example, we will need to import the `BPEVectorizer1D` which is reponsible for vectorizing text to BPE form, a few utilities from 8-mile including the entire optimizer base and TF packages, as well as the language models we will be using from the `baseline.tf.lm` package."
      ]
    },
    {
      "cell_type": "code",
      "metadata": {
        "id": "Zg4tATmaB4tx",
        "colab_type": "code",
        "colab": {}
      },
      "source": [
        "import time\n",
        "import os\n",
        "from argparse import ArgumentParser\n",
        "import math\n",
        "from typing import Tuple\n",
        "import baseline\n",
        "from eight_mile.utils import str2bool, write_json\n",
        "import baseline.tf.embeddings\n",
        "import baseline.embeddings\n",
        "from baseline.vectorizers import BPEVectorizer1D\n",
        "from eight_mile.utils import Average, get_num_gpus_multiworker, read_yaml\n",
        "from eight_mile.optz import *\n",
        "from eight_mile.tf.optz import *\n",
        "from baseline.tf.lm import SET_TRAIN_FLAG, TransformerLanguageModel, TransformerMaskedLanguageModel\n",
        "import tensorflow as tf\n",
        "import glob\n",
        "import json\n",
        "\n",
        "logger = logging.getLogger(\"mead-transformers-tpu\")"
      ],
      "execution_count": 0,
      "outputs": []
    },
    {
      "cell_type": "markdown",
      "metadata": {
        "id": "Hw-kvOVd0PNI",
        "colab_type": "text"
      },
      "source": [
        "Here we will define the loss as a function object -- a class with an overloaded `__call__()` function.  We will instantiate using the normal constructor (which takes the BPE `vocab_size` and the context window size), but when its called during optimization, the instance name is called with parens (containing the `model`, `features` and `labels`) as though it was a normal function."
      ]
    },
    {
      "cell_type": "code",
      "metadata": {
        "id": "zZLqR4aGCWY0",
        "colab_type": "code",
        "colab": {}
      },
      "source": [
        "\n",
        "class Loss:\n",
        "    def __init__(self, vocab_size, nctx):\n",
        "        self.vocab_size = vocab_size\n",
        "        self.nctx = nctx\n",
        "\n",
        "    def __call__(self, model, features, labels):\n",
        "        logits, _ = model(features, None)\n",
        "        loss_mask = tf.cast(labels != 0, tf.float32)\n",
        "        losses = tf.nn.sparse_softmax_cross_entropy_with_logits(logits=logits, labels=labels)\n",
        "        losses = losses * loss_mask\n",
        "        losses = tf.reduce_sum(losses)\n",
        "        non_zero = tf.reduce_sum(loss_mask)\n",
        "        losses /= non_zero\n",
        "        return losses"
      ],
      "execution_count": 0,
      "outputs": []
    },
    {
      "cell_type": "markdown",
      "metadata": {
        "id": "4eaaBALe0wXY",
        "colab_type": "text"
      },
      "source": [
        "Our preprocessed data files are written in shards of TFRecords (of size ~100MB each) with the feature `x` representing the integer values of the input BPE tokens and `y` representing the target integer values to recover during masked language modeling).\n",
        "\n",
        "Here is an example of what these records would look like as a JSON object:\n",
        "\n",
        "```json\n",
        "{\n",
        "  \"x\": [4, 10, 99, 1926, 21, 128, 11, 106, 5, 13288, 33, 7, 5409, 565, 399, 6, 26, 10, 20, 1191, 153, 283, 13, 39, 399, 57, 6, 10, 49, 1616, 5, 63, 1822, 11, 106, 58, 5, 10, 117, 183, 195, 283, 18, 7, 295, 11, 59, 6, 5, 5, 99, 1238, 13, 484, 5, 11723, 852, 18, 2652, 8, 330, 292, 5, 50, 5, 88, 11, 6, 168, 13, 75, 87, 5, 830, 7820, 3012, 18, 834, 9559, 13, 135, 1175, 19, 32, 49, 134, 13, 11, 53, 15, 7, 5939, 1069, 30, 2, 86, 1238, 5, 382, 5129, 8, 4882, 4211, 3383, 42, 5, 19213, 6, 7, 3594, 5, 33, 5129, 5, 221, 17, 140, 8, 38, 5, 49, 127, 19, 7, 11963, 39, 2549, 131, 6, 2, 100, 1238, 13, 39, 28, 18, 2562, 18, 4428, 14327, 7, 44, 12, 1610, 5, 979, 2021, 194, 221, 51, 6, 26, 10, 5, 8432, 7, 3594, 44, 379, 3010, 5, 495, 33, 19, 71, 6, 5, 47, 1713, 174, 16, 644, 15, 231, 7, 3442, 3378, 6, 5, 5, 37, 10, 52, 7, 632, 5, 13, 8, 13, 356, 52, 12, 5, 5, 5, 194, 7, 700, 15, 7, 5, 8, 9311, 28, 1090, 5, 84, 657, 11858, 14043, 8, 9, 294, 27, 28, 37, 63, 6772, 42, 2697, 37, 5, 2488, 19, 31, 347, 21, 7, 971, 41, 5, 2299, 5, 5, 20151, 1645, 37, 11, 66, 294, 5, 18, 7, 5, 15, 7, 5, 17, 233, 19, 92, 56, 13, 5, 86, 5],\n",
        "  \"y\": [0, 0, 0, 0, 0, 0, 0, 0, 7, 0, 0, 0, 0, 0, 0, 0, 0, 0, 0, 0, 0, 0, 0, 0, 0, 0, 0, 0, 0, 0, 12, 0, 0, 0, 0, 0, 36, 0, 0, 0, 0, 0, 0, 0, 0, 0, 0, 0, 2, 10, 0, 0, 0, 0, 11, 0, 0, 0, 0, 0, 0, 0, 17, 0, 11, 0, 0, 0, 0, 0, 0, 0, 18408, 0, 0, 0, 0, 834, 0, 0, 0, 0, 0, 32, 0, 0, 0, 0, 0, 0, 0, 0, 0, 0, 0, 0, 0, 17, 0, 0, 0, 0, 0, 0, 0, 15380, 0, 0, 0, 0, 20, 0, 0, 194, 0, 0, 0, 0, 0, 10, 0, 0, 0, 0, 0, 0, 0, 0, 0, 0, 0, 0, 0, 0, 0, 0, 0, 0, 0, 6, 7, 0, 0, 0, 15, 0, 0, 0, 0, 0, 0, 0, 0, 83, 127, 0, 0, 0, 0, 0, 6605, 0, 0, 0, 0, 0, 2, 0, 0, 0, 0, 0, 0, 0, 0, 0, 0, 0, 37, 118, 0, 0, 0, 7, 0, 15, 0, 0, 0, 0, 0, 0, 878, 19, 416, 0, 0, 0, 0, 0, 342, 0, 46, 0, 0, 6002, 0, 0, 0, 0, 0, 0, 0, 0, 0, 0, 0, 0, 0, 0, 0, 3442, 0, 0, 0, 0, 0, 0, 0, 0, 2839, 0, 6, 83, 72, 0, 37, 0, 0, 0, 28, 0, 0, 668, 0, 0, 3378, 0, 0, 0, 0, 0, 0, 30, 0, 644]\n",
        "}\n",
        "```\n",
        "\n",
        "To read the TFRecords, we need a descriptor of these features, and we need to use the [tf.io.parse_single_example()](https://www.tensorflow.org/api_docs/python/tf/io/parse_single_example) function, which we will apply to each record.\n",
        "\n",
        "These files are stored on a GCP bucket, so when we call `get_dataset()` below, we will `glob` the bucket for `*.tfrecord` files then map each record retreival to a pipeline that includes parsing the example."
      ]
    },
    {
      "cell_type": "code",
      "metadata": {
        "id": "Sha4CdqHCb9N",
        "colab_type": "code",
        "colab": {}
      },
      "source": [
        "\n",
        "\n",
        "feature_description = {\n",
        "    'x': tf.io.FixedLenSequenceFeature([], tf.int64, allow_missing=True, default_value=0),\n",
        "    'y': tf.io.FixedLenSequenceFeature([], tf.int64, allow_missing=True, default_value=0),\n",
        "}\n",
        "\n",
        "\n",
        "def _parse_tf_record(example_proto):\n",
        "    record = tf.io.parse_single_example(example_proto, feature_description)\n",
        "    return record['x'], record['y']\n",
        "\n",
        "\n",
        "def get_dataset(directory):\n",
        "    pattern = os.path.join(directory, f'*.tfrecord')\n",
        "    files = tf.io.gfile.glob(pattern)\n",
        "    print(files)\n",
        "    ds = tf.data.TFRecordDataset(files).map(_parse_tf_record)\n",
        "    return ds"
      ],
      "execution_count": 0,
      "outputs": []
    },
    {
      "cell_type": "markdown",
      "metadata": {
        "id": "xXUJzFdL2hPY",
        "colab_type": "text"
      },
      "source": [
        "Our example will use the `tf.distribute` library, which allows us to provide a [tf.distribute.Strategy](https://www.tensorflow.org/api_docs/python/tf/distribute/Strategy) for handling distribution details. We just need to create the right sub-class, in this case a [TPUStrategy](https://www.tensorflow.org/api_docs/python/tf/distribute/experimental/TPUStrategy), which we will need to initialize with a [TPUClusterResolver](https://www.tensorflow.org/api_docs/python/tf/distribute/cluster_resolver/TPUClusterResolver) that takes in an address for the TPU.  Because this example is in colab, we are going to end up calling this function with an empty address and it will use the environment variable `COLAB_TPU_ADDR` to resolve our TPU address."
      ]
    },
    {
      "cell_type": "code",
      "metadata": {
        "id": "lmK8E16KCmnG",
        "colab_type": "code",
        "colab": {}
      },
      "source": [
        "def create_distribute_strategy(strategy_name, endpoint=None):\n",
        "    if strategy_name == 'tpu':\n",
        "        if endpoint is None:\n",
        "            endpoint = 'grpc://' + os.environ['COLAB_TPU_ADDR']\n",
        "        resolver = tf.distribute.cluster_resolver.TPUClusterResolver(tpu=endpoint)\n",
        "        tf.config.experimental_connect_to_cluster(resolver)\n",
        "        # This is the TPU initialization code that has to be at the beginning.\n",
        "        tf.tpu.experimental.initialize_tpu_system(resolver)\n",
        "        print(\"All devices: \", tf.config.list_logical_devices('TPU'))\n",
        "        strategy = tf.distribute.experimental.TPUStrategy(resolver)\n",
        "    elif strategy_name == 'mirror':\n",
        "        num_gpus = get_num_gpus_multiworker()\n",
        "        devices = ['/device:GPU:{}'.format(i) for i in range(num_gpus)]\n",
        "        strategy = tf.distribute.MirroredStrategy(devices)\n",
        "    else:\n",
        "        raise Exception(f\"Unsupported strategy {strategy_name}\")\n",
        "    return strategy"
      ],
      "execution_count": 0,
      "outputs": []
    },
    {
      "cell_type": "markdown",
      "metadata": {
        "id": "WKJrbuSx32bi",
        "colab_type": "text"
      },
      "source": [
        "Now that we have set up a lot of the boilerplate we can go ahead and create our\n",
        "1. `tf.distribute.Strategy` using the function above\n",
        "2. `baseline.Vectorizer` which we will use to initialize the vocabulary of our model\n",
        "3. `baseline.embeddings` whch we will use to initalize a lookup table that projects from our vocabulary size to a hidden unit size (`MLM_MODEL_SZ` below)\n",
        "4. `baseline.tf.lm.TransformerMaskedLanguageModel` which is the model we will be training.  It is built internally on `8 mile` by using an [eight_mile.tf.layers.TransformerEncoderStack](https://github.com/dpressel/mead-baseline/blob/master/layers/eight_mile/tf/layers.py), which composes a stack of `Transformer` encoders with interleaved multi-head attention and FFN sub-stacks.\n",
        "\n",
        "The `TransformerMaskedLanguageModel` is a type of `class AbstractGeneratorModel(LanguageModelBase)`, which defines the abstract phases to create a `LanguageModel`:\n",
        "\n",
        "```python\n",
        "    def create_layers(self, embeddings, **kwargs):\n",
        "        self.embeddings = self.init_embed(embeddings, **kwargs)\n",
        "        self.embeddings_proj = self.init_embeddings_proj(**kwargs)\n",
        "        self.generator = self.init_generate(**kwargs)\n",
        "        self.output_layer = self.init_output(embeddings, **kwargs)\n",
        "```\n",
        "\n",
        "This gets sub-classed by the `TransformerLanguageModel` to provide a `Transformer`-based `generator` object:\n",
        "\n",
        "```python\n",
        "    def init_generate(self, **kwargs):\n",
        "        pdrop = float(kwargs.get('dropout', 0.1))\n",
        "        layers = kwargs.get('layers', kwargs.get('num_layers', 1))\n",
        "        d_model = int(kwargs.get('d_model', kwargs.get('hsz')))\n",
        "        num_heads = kwargs.get('num_heads', 4)\n",
        "        d_ff = int(kwargs.get('d_ff', 4 * d_model))\n",
        "        rpr_k = kwargs.get('rpr_k')\n",
        "        d_k = kwargs.get('d_k')\n",
        "        scale = bool(kwargs.get('scale', True))\n",
        "        activation = kwargs.get('activation', 'gelu')\n",
        "        layer_norm_eps = kwargs.get('layer_norm_eps', 1e-12)\n",
        "        layer_norms_after = kwargs.get('layer_norms_after', False)\n",
        "        return TransformerEncoderStack(num_heads, d_model=d_model, pdrop=pdrop, scale=scale,\n",
        "                                       layers=layers, d_ff=d_ff, rpr_k=rpr_k, d_k=d_k,\n",
        "                                       activation=activation, layer_norm_eps=layer_norm_eps,\n",
        "                                       layer_norms_after=layer_norms_after)\n",
        "```"
      ]
    },
    {
      "cell_type": "code",
      "metadata": {
        "id": "aioXP-exCsFL",
        "colab_type": "code",
        "outputId": "07f20d30-462d-434f-f4fb-cd89552ea13f",
        "colab": {
          "base_uri": "https://localhost:8080/",
          "height": 768
        }
      },
      "source": [
        "\n",
        "\n",
        "MLM_MODEL_SZ = 512\n",
        "MLM_FFN_SZ = 4 * MLM_MODEL_SZ\n",
        "MLM_CONTEXT_LENGTH = 256\n",
        "MLM_REL_POS_REPR = 8\n",
        "MLM_DROPOUT = 0.1\n",
        "MLM_NUM_HEADS = 8\n",
        "MLM_NUM_LAYERS = 8\n",
        "SET_TRAIN_FLAG(True)\n",
        "\n",
        "SUBWORD_MODEL_FILE = './wt2/wiki.train.bpe.50k.codes'\n",
        "SUBWORD_VOCAB_FILE = './wt2/wiki.train.bpe.50k.vocab'\n",
        "\n",
        "logging.basicConfig(level=logging.INFO)\n",
        "\n",
        "strategy = create_distribute_strategy(\"tpu\")\n",
        "num_replicas = strategy.num_replicas_in_sync\n",
        "logger.info(f\"Using {num_replicas} replicas in this job.\")\n",
        "vectorizer = BPEVectorizer1D(model_file=SUBWORD_MODEL_FILE,\n",
        "                             vocab_file=SUBWORD_VOCAB_FILE,\n",
        "                             mxlen=MLM_MODEL_SZ)\n",
        "vocab = {'x': vectorizer.vocab}\n",
        "preproc_data = baseline.embeddings.load_embeddings('x',\n",
        "                                                   dsz=MLM_MODEL_SZ,\n",
        "                                                   known_vocab=vocab['x'],\n",
        "                                                   preserve_vocab_indices=True,\n",
        "                                                   embed_type=\"default\")\n",
        "vocabs = preproc_data['vocab']\n",
        "vocab_size = max(vocabs.values())\n",
        "embeddings = {'x': preproc_data['embeddings']}\n",
        "\n",
        "model = TransformerMaskedLanguageModel.create(embeddings,\n",
        "                                              hsz=MLM_MODEL_SZ,\n",
        "                                              d_ff=MLM_FFN_SZ,\n",
        "                                              tie_weights=True,\n",
        "                                              dropout=MLM_DROPOUT,\n",
        "                                              num_heads=MLM_NUM_HEADS,\n",
        "                                              layers=MLM_NUM_LAYERS,\n",
        "                                              rpr_k=MLM_REL_POS_REPR,\n",
        "                                              src_keys=['x'], tgt_key='x')\n"
      ],
      "execution_count": 14,
      "outputs": [
        {
          "output_type": "stream",
          "text": [
            "INFO:absl:Entering into master device scope: /job:worker/replica:0/task:0/device:CPU:0\n"
          ],
          "name": "stderr"
        },
        {
          "output_type": "stream",
          "text": [
            "INFO:tensorflow:Initializing the TPU system: grpc://10.66.50.186:8470\n"
          ],
          "name": "stdout"
        },
        {
          "output_type": "stream",
          "text": [
            "INFO:tensorflow:Initializing the TPU system: grpc://10.66.50.186:8470\n"
          ],
          "name": "stderr"
        },
        {
          "output_type": "stream",
          "text": [
            "INFO:tensorflow:Clearing out eager caches\n"
          ],
          "name": "stdout"
        },
        {
          "output_type": "stream",
          "text": [
            "INFO:tensorflow:Clearing out eager caches\n"
          ],
          "name": "stderr"
        },
        {
          "output_type": "stream",
          "text": [
            "INFO:tensorflow:Finished initializing TPU system.\n"
          ],
          "name": "stdout"
        },
        {
          "output_type": "stream",
          "text": [
            "INFO:tensorflow:Finished initializing TPU system.\n"
          ],
          "name": "stderr"
        },
        {
          "output_type": "stream",
          "text": [
            "All devices:  [LogicalDevice(name='/job:worker/replica:0/task:0/device:TPU:7', device_type='TPU'), LogicalDevice(name='/job:worker/replica:0/task:0/device:TPU:6', device_type='TPU'), LogicalDevice(name='/job:worker/replica:0/task:0/device:TPU:5', device_type='TPU'), LogicalDevice(name='/job:worker/replica:0/task:0/device:TPU:4', device_type='TPU'), LogicalDevice(name='/job:worker/replica:0/task:0/device:TPU:2', device_type='TPU'), LogicalDevice(name='/job:worker/replica:0/task:0/device:TPU:0', device_type='TPU'), LogicalDevice(name='/job:worker/replica:0/task:0/device:TPU:1', device_type='TPU'), LogicalDevice(name='/job:worker/replica:0/task:0/device:TPU:3', device_type='TPU')]\n",
            "INFO:tensorflow:Found TPU system:\n"
          ],
          "name": "stdout"
        },
        {
          "output_type": "stream",
          "text": [
            "INFO:tensorflow:Found TPU system:\n"
          ],
          "name": "stderr"
        },
        {
          "output_type": "stream",
          "text": [
            "INFO:tensorflow:*** Num TPU Cores: 8\n"
          ],
          "name": "stdout"
        },
        {
          "output_type": "stream",
          "text": [
            "INFO:tensorflow:*** Num TPU Cores: 8\n"
          ],
          "name": "stderr"
        },
        {
          "output_type": "stream",
          "text": [
            "INFO:tensorflow:*** Num TPU Workers: 1\n"
          ],
          "name": "stdout"
        },
        {
          "output_type": "stream",
          "text": [
            "INFO:tensorflow:*** Num TPU Workers: 1\n"
          ],
          "name": "stderr"
        },
        {
          "output_type": "stream",
          "text": [
            "INFO:tensorflow:*** Num TPU Cores Per Worker: 8\n"
          ],
          "name": "stdout"
        },
        {
          "output_type": "stream",
          "text": [
            "INFO:tensorflow:*** Num TPU Cores Per Worker: 8\n"
          ],
          "name": "stderr"
        },
        {
          "output_type": "stream",
          "text": [
            "INFO:tensorflow:*** Available Device: _DeviceAttributes(/job:localhost/replica:0/task:0/device:CPU:0, CPU, 0, 0)\n"
          ],
          "name": "stdout"
        },
        {
          "output_type": "stream",
          "text": [
            "INFO:tensorflow:*** Available Device: _DeviceAttributes(/job:localhost/replica:0/task:0/device:CPU:0, CPU, 0, 0)\n"
          ],
          "name": "stderr"
        },
        {
          "output_type": "stream",
          "text": [
            "INFO:tensorflow:*** Available Device: _DeviceAttributes(/job:localhost/replica:0/task:0/device:XLA_CPU:0, XLA_CPU, 0, 0)\n"
          ],
          "name": "stdout"
        },
        {
          "output_type": "stream",
          "text": [
            "INFO:tensorflow:*** Available Device: _DeviceAttributes(/job:localhost/replica:0/task:0/device:XLA_CPU:0, XLA_CPU, 0, 0)\n"
          ],
          "name": "stderr"
        },
        {
          "output_type": "stream",
          "text": [
            "INFO:tensorflow:*** Available Device: _DeviceAttributes(/job:worker/replica:0/task:0/device:CPU:0, CPU, 0, 0)\n"
          ],
          "name": "stdout"
        },
        {
          "output_type": "stream",
          "text": [
            "INFO:tensorflow:*** Available Device: _DeviceAttributes(/job:worker/replica:0/task:0/device:CPU:0, CPU, 0, 0)\n"
          ],
          "name": "stderr"
        },
        {
          "output_type": "stream",
          "text": [
            "INFO:tensorflow:*** Available Device: _DeviceAttributes(/job:worker/replica:0/task:0/device:TPU:0, TPU, 0, 0)\n"
          ],
          "name": "stdout"
        },
        {
          "output_type": "stream",
          "text": [
            "INFO:tensorflow:*** Available Device: _DeviceAttributes(/job:worker/replica:0/task:0/device:TPU:0, TPU, 0, 0)\n"
          ],
          "name": "stderr"
        },
        {
          "output_type": "stream",
          "text": [
            "INFO:tensorflow:*** Available Device: _DeviceAttributes(/job:worker/replica:0/task:0/device:TPU:1, TPU, 0, 0)\n"
          ],
          "name": "stdout"
        },
        {
          "output_type": "stream",
          "text": [
            "INFO:tensorflow:*** Available Device: _DeviceAttributes(/job:worker/replica:0/task:0/device:TPU:1, TPU, 0, 0)\n"
          ],
          "name": "stderr"
        },
        {
          "output_type": "stream",
          "text": [
            "INFO:tensorflow:*** Available Device: _DeviceAttributes(/job:worker/replica:0/task:0/device:TPU:2, TPU, 0, 0)\n"
          ],
          "name": "stdout"
        },
        {
          "output_type": "stream",
          "text": [
            "INFO:tensorflow:*** Available Device: _DeviceAttributes(/job:worker/replica:0/task:0/device:TPU:2, TPU, 0, 0)\n"
          ],
          "name": "stderr"
        },
        {
          "output_type": "stream",
          "text": [
            "INFO:tensorflow:*** Available Device: _DeviceAttributes(/job:worker/replica:0/task:0/device:TPU:3, TPU, 0, 0)\n"
          ],
          "name": "stdout"
        },
        {
          "output_type": "stream",
          "text": [
            "INFO:tensorflow:*** Available Device: _DeviceAttributes(/job:worker/replica:0/task:0/device:TPU:3, TPU, 0, 0)\n"
          ],
          "name": "stderr"
        },
        {
          "output_type": "stream",
          "text": [
            "INFO:tensorflow:*** Available Device: _DeviceAttributes(/job:worker/replica:0/task:0/device:TPU:4, TPU, 0, 0)\n"
          ],
          "name": "stdout"
        },
        {
          "output_type": "stream",
          "text": [
            "INFO:tensorflow:*** Available Device: _DeviceAttributes(/job:worker/replica:0/task:0/device:TPU:4, TPU, 0, 0)\n"
          ],
          "name": "stderr"
        },
        {
          "output_type": "stream",
          "text": [
            "INFO:tensorflow:*** Available Device: _DeviceAttributes(/job:worker/replica:0/task:0/device:TPU:5, TPU, 0, 0)\n"
          ],
          "name": "stdout"
        },
        {
          "output_type": "stream",
          "text": [
            "INFO:tensorflow:*** Available Device: _DeviceAttributes(/job:worker/replica:0/task:0/device:TPU:5, TPU, 0, 0)\n"
          ],
          "name": "stderr"
        },
        {
          "output_type": "stream",
          "text": [
            "INFO:tensorflow:*** Available Device: _DeviceAttributes(/job:worker/replica:0/task:0/device:TPU:6, TPU, 0, 0)\n"
          ],
          "name": "stdout"
        },
        {
          "output_type": "stream",
          "text": [
            "INFO:tensorflow:*** Available Device: _DeviceAttributes(/job:worker/replica:0/task:0/device:TPU:6, TPU, 0, 0)\n"
          ],
          "name": "stderr"
        },
        {
          "output_type": "stream",
          "text": [
            "INFO:tensorflow:*** Available Device: _DeviceAttributes(/job:worker/replica:0/task:0/device:TPU:7, TPU, 0, 0)\n"
          ],
          "name": "stdout"
        },
        {
          "output_type": "stream",
          "text": [
            "INFO:tensorflow:*** Available Device: _DeviceAttributes(/job:worker/replica:0/task:0/device:TPU:7, TPU, 0, 0)\n"
          ],
          "name": "stderr"
        },
        {
          "output_type": "stream",
          "text": [
            "INFO:tensorflow:*** Available Device: _DeviceAttributes(/job:worker/replica:0/task:0/device:TPU_SYSTEM:0, TPU_SYSTEM, 0, 0)\n"
          ],
          "name": "stdout"
        },
        {
          "output_type": "stream",
          "text": [
            "INFO:tensorflow:*** Available Device: _DeviceAttributes(/job:worker/replica:0/task:0/device:TPU_SYSTEM:0, TPU_SYSTEM, 0, 0)\n"
          ],
          "name": "stderr"
        },
        {
          "output_type": "stream",
          "text": [
            "INFO:tensorflow:*** Available Device: _DeviceAttributes(/job:worker/replica:0/task:0/device:XLA_CPU:0, XLA_CPU, 0, 0)\n"
          ],
          "name": "stdout"
        },
        {
          "output_type": "stream",
          "text": [
            "INFO:tensorflow:*** Available Device: _DeviceAttributes(/job:worker/replica:0/task:0/device:XLA_CPU:0, XLA_CPU, 0, 0)\n",
            "INFO:mead-transformers-tpu:Using 8 replicas in this job.\n"
          ],
          "name": "stderr"
        }
      ]
    },
    {
      "cell_type": "markdown",
      "metadata": {
        "id": "e4bSuLW26L0D",
        "colab_type": "text"
      },
      "source": [
        "We have defined our model and our loss function, as well as the initial step of our data pipeline using `TFRecordDataset`.  Now we will provide functions that will distribute our reader over each replica using the `strategy.experimental_distribute_datasets_from_function` API call, and batches the dataset into our per-replica dataset size. "
      ]
    },
    {
      "cell_type": "code",
      "metadata": {
        "id": "0hxAutT7EVCI",
        "colab_type": "code",
        "colab": {}
      },
      "source": [
        "BATCH_SIZE = 8 * 20\n",
        "TRAIN_BUCKET = \"gs://lm-sample/wt2/train\"\n",
        "VALID_BUCKET = \"gs://lm-sample/wt2/valid\"\n",
        "MD_TRAIN_FILE = \"./wt2/train/md.yml\"\n",
        "MD_TEST_FILE = \"./wt2/valid/md.yml\"\n",
        "def get_num_samples(f):\n",
        "    yml = read_yaml(f)\n",
        "    return yml['num_samples']\n",
        "\n",
        "def dataset_train_fn(input_context):\n",
        "    batch_size = input_context.get_per_replica_batch_size(BATCH_SIZE)\n",
        "    ds = get_dataset(TRAIN_BUCKET).batch(batch_size)\n",
        "    return ds.shard(\n",
        "        input_context.num_input_pipelines, input_context.input_pipeline_id\n",
        "    )\n",
        "train_loader = strategy.experimental_distribute_datasets_from_function(dataset_train_fn)\n",
        "\n",
        "def dataset_test_fn(input_context):\n",
        "    batch_size = input_context.get_per_replica_batch_size(BATCH_SIZE)\n",
        "    ds = get_dataset(VALID_BUCKET).batch(batch_size)\n",
        "    return ds.shard(\n",
        "        input_context.num_input_pipelines, input_context.input_pipeline_id\n",
        "    )\n",
        "valid_loader = strategy.experimental_distribute_datasets_from_function(dataset_test_fn)\n",
        "\n",
        "num_train_samples = get_num_samples(MD_TRAIN_FILE)\n",
        "num_valid_samples = get_num_samples(MD_TEST_FILE)"
      ],
      "execution_count": 0,
      "outputs": []
    },
    {
      "cell_type": "markdown",
      "metadata": {
        "id": "N_X1YPjV69pu",
        "colab_type": "text"
      },
      "source": [
        "Now we can create our loss function, and set some variables so we can get periodic updates while we train."
      ]
    },
    {
      "cell_type": "code",
      "metadata": {
        "id": "WumPrXLvGDlp",
        "colab_type": "code",
        "outputId": "05a614fc-b3d9-42a2-e440-daa6b29d720b",
        "colab": {
          "base_uri": "https://localhost:8080/",
          "height": 34
        }
      },
      "source": [
        "loss_function = Loss(vocab_size, MLM_CONTEXT_LENGTH)\n",
        "steps_per_epoch = num_train_samples // BATCH_SIZE\n",
        "steps_per_valid_epoch = num_valid_samples // BATCH_SIZE\n",
        "update_on = steps_per_epoch // 2\n",
        "report_on = update_on // 4\n",
        "logger.info(f\"Steps per epoch: {steps_per_epoch}. Update every {update_on} steps.\")\n"
      ],
      "execution_count": 16,
      "outputs": [
        {
          "output_type": "stream",
          "text": [
            "INFO:mead-transformers-tpu:Steps per epoch: 56. Update every 28 steps.\n"
          ],
          "name": "stderr"
        }
      ]
    },
    {
      "cell_type": "markdown",
      "metadata": {
        "id": "yFGrzt3t7J05",
        "colab_type": "text"
      },
      "source": [
        "The `8 mile` API provides an `EagerOptimizer` which takes in a loss function (or function object in our case) and applies it for every step of training to provide a per-replica loss.  We are going to create a learning regimen that starts with a linear warmup to the target learning rate over `WARMUP_STEPS` composed with learning rate scheduler that provides a cosine decay.\n",
        "\n",
        "We will specify that our model is to be trained with [adamw](https://www.fast.ai/2018/07/02/adam-weight-decay/) (we use the `tensorflow_addons` implementation underneath) with weight decay given by `WD` below:"
      ]
    },
    {
      "cell_type": "code",
      "metadata": {
        "id": "uMhh55X9IMCx",
        "colab_type": "code",
        "outputId": "a8d5f0fd-6e67-45ef-913d-af98309c1ba1",
        "colab": {
          "base_uri": "https://localhost:8080/",
          "height": 51
        }
      },
      "source": [
        "LR = 4.0e-4\n",
        "EPOCHS = 10\n",
        "GRAD_CLIP = 1.0\n",
        "OPTIM = \"adamw\"\n",
        "WD = 1.0e-5\n",
        "WARMUP_STEPS = 10000\n",
        "lr_decay = CosineDecaySchedulerTensorFlow(steps_per_epoch)\n",
        "linear_warmup = WarmupLinearSchedulerTensorFlow(WARMUP_STEPS, lr=LR)\n",
        "lr_sched = CompositeLRSchedulerTensorFlow(linear_warmup, lr_decay, lr=LR)\n",
        "\n",
        "optimizer = EagerOptimizer(loss_function, global_step=1, lr=LR, optim=OPTIM,\n",
        "                           learning_rate_decay_fn=lr_sched,\n",
        "                           weight_decay=WD, clip=GRAD_CLIP)"
      ],
      "execution_count": 17,
      "outputs": [
        {
          "output_type": "stream",
          "text": [
            "INFO:mead.layers:adamw(eta=0.000400 beta1=0.900000, beta2=0.999000, eps=0.000000, wd=0.000010)\n",
            "INFO:mead.layers:clip gradients at 1.0\n"
          ],
          "name": "stderr"
        }
      ]
    },
    {
      "cell_type": "markdown",
      "metadata": {
        "id": "L1Krt3L58JII",
        "colab_type": "text"
      },
      "source": [
        "We are going to define 2 autograph compiled functions, one for distributed training and one for distributed testing.  The implementations proxy to an underlying per-replica function which optimize and provide back the per-replica losses, which are accumulated in the distributed function.  These functions use the `strategy.experimental_run_v2` function to call the per-replica versions, and `strategy.reduce` to sum the results."
      ]
    },
    {
      "cell_type": "code",
      "metadata": {
        "id": "MLrkWby-LcqD",
        "colab_type": "code",
        "colab": {}
      },
      "source": [
        "\n",
        "def _replicated_train_step(inputs):\n",
        "    x, y = inputs\n",
        "    per_replica_loss = optimizer.update(model, {'x': x}, y, num_replicas)\n",
        "    return per_replica_loss\n",
        "\n",
        "@tf.function\n",
        "def _distributed_train_step(inputs: Tuple[tf.Tensor, tf.Tensor]):\n",
        "    per_replica_loss = strategy.experimental_run_v2(_replicated_train_step, args=(inputs,))\n",
        "    return strategy.reduce(tf.distribute.ReduceOp.SUM, per_replica_loss, axis=None)\n",
        "\n",
        "valid_loss_function = Loss(vocab_size, MLM_CONTEXT_LENGTH)\n",
        "def _replicated_test_step(inputs):\n",
        "    x, y = inputs\n",
        "    per_replica_loss = valid_loss_function(model, {'x': x}, y) / num_replicas\n",
        "    return per_replica_loss\n",
        "\n",
        "@tf.function\n",
        "def _distributed_test_step(inputs: Tuple[tf.Tensor, tf.Tensor]):\n",
        "    per_replica_loss = strategy.experimental_run_v2(_replicated_test_step, args=(inputs,))\n",
        "    return strategy.reduce(tf.distribute.ReduceOp.SUM, per_replica_loss, axis=None)"
      ],
      "execution_count": 0,
      "outputs": []
    },
    {
      "cell_type": "markdown",
      "metadata": {
        "id": "vFZ56p-B8oIx",
        "colab_type": "text"
      },
      "source": [
        "We have finally set up all the boilerplate and we can run a normal training loop.  The only difference for a distributed program within the training loop is that we call the operations within a `strategy.scope()`."
      ]
    },
    {
      "cell_type": "code",
      "metadata": {
        "id": "bMTTpSP_MCHL",
        "colab_type": "code",
        "outputId": "dc26a1a7-da66-4eea-f63a-3bf524cd9b77",
        "colab": {
          "base_uri": "https://localhost:8080/",
          "height": 1000
        }
      },
      "source": [
        "steps = 1\n",
        "start_epoch = 0\n",
        "\n",
        "with strategy.scope():\n",
        "\n",
        "    SET_TRAIN_FLAG(True)\n",
        "    for epoch in range(start_epoch, EPOCHS):\n",
        "        avg_loss = Average('average_train_loss')\n",
        "        metrics = {}\n",
        "        start = time.time()\n",
        "        train_iter = iter(train_loader)\n",
        "        for i in range(steps_per_epoch):\n",
        "            steps += 1\n",
        "            loss = _distributed_train_step(next(train_iter))\n",
        "            avg_loss.update(loss.numpy().item())\n",
        "            if (i + 1) % report_on == 0:\n",
        "                logging.info(avg_loss)\n",
        "            if (i + 1) % update_on == 0:\n",
        "                elapsed = (time.time() - start)/60\n",
        "                ##print(avg_loss.avg, math.exp(avg_loss.avg))\n",
        "                logging.info('elapsed time this epoch %d min', elapsed)\n",
        "                logging.info('elapsed step time %f steps/min', i/elapsed)\n",
        "\n",
        "        # How much time elapsed in minutes\n",
        "        elapsed = (time.time() - start)/60\n",
        "        train_token_loss = avg_loss.avg\n",
        "        # This is the average training token-level loss across all machines\n",
        "        # This is the token-level training perplexity\n",
        "        train_token_ppl = math.exp(train_token_loss)\n",
        "        metrics['train_elapsed_min'] = elapsed\n",
        "        metrics['average_train_loss'] = train_token_loss\n",
        "        metrics['average_train_token_ppl'] = train_token_ppl\n",
        "        avg_valid_loss = Average('average_valid_loss')\n",
        "        start = time.time()\n",
        "        SET_TRAIN_FLAG(False)\n",
        "        valid_iter = iter(valid_loader)\n",
        "        for i in range(steps_per_valid_epoch):\n",
        "            valid_loss = _distributed_test_step(next(valid_iter))\n",
        "            avg_valid_loss.update(valid_loss.numpy().item())\n",
        "\n",
        "        valid_token_loss = avg_valid_loss.avg\n",
        "        valid_token_ppl = math.exp(valid_token_loss)\n",
        "\n",
        "        elapsed = (time.time() - start)/60\n",
        "        metrics['valid_elapsed_min'] = elapsed\n",
        "        metrics['average_valid_loss'] = valid_token_loss\n",
        "        metrics['average_valid_token_ppl'] = valid_token_ppl\n",
        "        print(json.dumps(metrics, indent=4, sort_keys=True))"
      ],
      "execution_count": 19,
      "outputs": [
        {
          "output_type": "stream",
          "text": [
            "['gs://lm-sample/wt2/train/train-1.tfrecord']\n",
            "WARNING:tensorflow:From <ipython-input-18-3dbbed3a1a08>:9: StrategyBase.experimental_run_v2 (from tensorflow.python.distribute.distribute_lib) is deprecated and will be removed in a future version.\n",
            "Instructions for updating:\n",
            "renamed to `run`\n"
          ],
          "name": "stdout"
        },
        {
          "output_type": "stream",
          "text": [
            "WARNING:tensorflow:From <ipython-input-18-3dbbed3a1a08>:9: StrategyBase.experimental_run_v2 (from tensorflow.python.distribute.distribute_lib) is deprecated and will be removed in a future version.\n",
            "Instructions for updating:\n",
            "renamed to `run`\n",
            "INFO:root:average_train_loss 9.096889 (9.972504)\n",
            "INFO:root:average_train_loss 7.912448 (9.165428)\n",
            "INFO:root:average_train_loss 7.612167 (8.693713)\n",
            "INFO:root:average_train_loss 7.233835 (8.374005)\n",
            "INFO:root:elapsed time this epoch 0 min\n",
            "INFO:root:elapsed step time 29.685981 steps/min\n",
            "INFO:root:average_train_loss 7.242245 (8.157014)\n",
            "INFO:root:average_train_loss 7.232668 (8.015693)\n",
            "INFO:root:average_train_loss 7.337063 (7.909490)\n",
            "INFO:root:average_train_loss 7.295449 (7.829373)\n",
            "INFO:root:elapsed time this epoch 1 min\n",
            "INFO:root:elapsed step time 53.775229 steps/min\n"
          ],
          "name": "stderr"
        },
        {
          "output_type": "stream",
          "text": [
            "['gs://lm-sample/wt2/valid/valid-1.tfrecord']\n",
            "{\n",
            "    \"average_train_loss\": 7.829372840268271,\n",
            "    \"average_train_token_ppl\": 2513.352605482295,\n",
            "    \"average_valid_loss\": 6.9227618217468265,\n",
            "    \"average_valid_token_ppl\": 1015.1197062833614,\n",
            "    \"train_elapsed_min\": 1.0229240894317626,\n",
            "    \"valid_elapsed_min\": 0.11938762664794922\n",
            "}\n",
            "['gs://lm-sample/wt2/train/train-1.tfrecord']\n"
          ],
          "name": "stdout"
        },
        {
          "output_type": "stream",
          "text": [
            "INFO:root:average_train_loss 7.094117 (7.112583)\n",
            "INFO:root:average_train_loss 6.996023 (7.098821)\n",
            "INFO:root:average_train_loss 7.175888 (7.113302)\n",
            "INFO:root:average_train_loss 7.025935 (7.114455)\n",
            "INFO:root:elapsed time this epoch 0 min\n",
            "INFO:root:elapsed step time 221.402159 steps/min\n",
            "INFO:root:average_train_loss 7.096279 (7.116965)\n",
            "INFO:root:average_train_loss 7.124462 (7.127728)\n",
            "INFO:root:average_train_loss 7.227334 (7.132240)\n",
            "INFO:root:average_train_loss 7.181301 (7.136533)\n",
            "INFO:root:elapsed time this epoch 0 min\n",
            "INFO:root:elapsed step time 233.198984 steps/min\n"
          ],
          "name": "stderr"
        },
        {
          "output_type": "stream",
          "text": [
            "['gs://lm-sample/wt2/valid/valid-1.tfrecord']\n",
            "{\n",
            "    \"average_train_loss\": 7.136533319950104,\n",
            "    \"average_train_token_ppl\": 1257.0629915576226,\n",
            "    \"average_valid_loss\": 6.902038097381592,\n",
            "    \"average_valid_token_ppl\": 994.2991303811895,\n",
            "    \"train_elapsed_min\": 0.2359027902285258,\n",
            "    \"valid_elapsed_min\": 0.018339693546295166\n",
            "}\n",
            "['gs://lm-sample/wt2/train/train-1.tfrecord']\n"
          ],
          "name": "stdout"
        },
        {
          "output_type": "stream",
          "text": [
            "INFO:root:average_train_loss 7.074431 (7.091281)\n",
            "INFO:root:average_train_loss 6.983926 (7.083945)\n",
            "INFO:root:average_train_loss 7.163584 (7.097341)\n",
            "INFO:root:average_train_loss 7.011511 (7.097628)\n",
            "INFO:root:elapsed time this epoch 0 min\n",
            "INFO:root:elapsed step time 221.380728 steps/min\n",
            "INFO:root:average_train_loss 7.066680 (7.098095)\n",
            "INFO:root:average_train_loss 7.104072 (7.106778)\n",
            "INFO:root:average_train_loss 7.197621 (7.108843)\n",
            "INFO:root:average_train_loss 7.141391 (7.111151)\n",
            "INFO:root:elapsed time this epoch 0 min\n",
            "INFO:root:elapsed step time 232.771656 steps/min\n"
          ],
          "name": "stderr"
        },
        {
          "output_type": "stream",
          "text": [
            "['gs://lm-sample/wt2/valid/valid-1.tfrecord']\n",
            "{\n",
            "    \"average_train_loss\": 7.111151388713291,\n",
            "    \"average_train_token_ppl\": 1225.5578274949555,\n",
            "    \"average_valid_loss\": 6.905890083312988,\n",
            "    \"average_valid_token_ppl\": 998.1365427273084,\n",
            "    \"train_elapsed_min\": 0.23635261058807372,\n",
            "    \"valid_elapsed_min\": 0.01759008566538493\n",
            "}\n",
            "['gs://lm-sample/wt2/train/train-1.tfrecord']\n"
          ],
          "name": "stdout"
        },
        {
          "output_type": "stream",
          "text": [
            "INFO:root:average_train_loss 7.074847 (7.084923)\n",
            "INFO:root:average_train_loss 6.976145 (7.076192)\n",
            "INFO:root:average_train_loss 7.151515 (7.088662)\n",
            "INFO:root:average_train_loss 7.003614 (7.087638)\n",
            "INFO:root:elapsed time this epoch 0 min\n",
            "INFO:root:elapsed step time 222.939884 steps/min\n",
            "INFO:root:average_train_loss 7.044115 (7.087120)\n",
            "INFO:root:average_train_loss 7.079299 (7.094533)\n",
            "INFO:root:average_train_loss 7.176611 (7.095678)\n",
            "INFO:root:average_train_loss 7.117996 (7.097035)\n",
            "INFO:root:elapsed time this epoch 0 min\n",
            "INFO:root:elapsed step time 234.190641 steps/min\n"
          ],
          "name": "stderr"
        },
        {
          "output_type": "stream",
          "text": [
            "['gs://lm-sample/wt2/valid/valid-1.tfrecord']\n",
            "{\n",
            "    \"average_train_loss\": 7.097034811973572,\n",
            "    \"average_train_token_ppl\": 1208.3786869858939,\n",
            "    \"average_valid_loss\": 6.916637897491455,\n",
            "    \"average_valid_token_ppl\": 1008.9221860327433,\n",
            "    \"train_elapsed_min\": 0.23494350512822468,\n",
            "    \"valid_elapsed_min\": 0.016922930876413982\n",
            "}\n",
            "['gs://lm-sample/wt2/train/train-1.tfrecord']\n"
          ],
          "name": "stdout"
        },
        {
          "output_type": "stream",
          "text": [
            "INFO:root:average_train_loss 7.063178 (7.080294)\n",
            "INFO:root:average_train_loss 6.968655 (7.073005)\n",
            "INFO:root:average_train_loss 7.148028 (7.083664)\n",
            "INFO:root:average_train_loss 6.997018 (7.080718)\n",
            "INFO:root:elapsed time this epoch 0 min\n",
            "INFO:root:elapsed step time 218.649791 steps/min\n",
            "INFO:root:average_train_loss 7.030533 (7.079818)\n",
            "INFO:root:average_train_loss 7.071887 (7.087055)\n",
            "INFO:root:average_train_loss 7.174151 (7.088527)\n",
            "INFO:root:average_train_loss 7.101533 (7.089807)\n",
            "INFO:root:elapsed time this epoch 0 min\n",
            "INFO:root:elapsed step time 232.761259 steps/min\n"
          ],
          "name": "stderr"
        },
        {
          "output_type": "stream",
          "text": [
            "['gs://lm-sample/wt2/valid/valid-1.tfrecord']\n",
            "{\n",
            "    \"average_train_loss\": 7.089807348591941,\n",
            "    \"average_train_token_ppl\": 1199.6766589491103,\n",
            "    \"average_valid_loss\": 6.924269771575927,\n",
            "    \"average_valid_token_ppl\": 1016.6516105981084,\n",
            "    \"train_elapsed_min\": 0.23636389176050823,\n",
            "    \"valid_elapsed_min\": 0.017440760135650636\n",
            "}\n",
            "['gs://lm-sample/wt2/train/train-1.tfrecord']\n"
          ],
          "name": "stdout"
        },
        {
          "output_type": "stream",
          "text": [
            "INFO:root:average_train_loss 7.063714 (7.076505)\n",
            "INFO:root:average_train_loss 6.972963 (7.071237)\n",
            "INFO:root:average_train_loss 7.142108 (7.082807)\n",
            "INFO:root:average_train_loss 6.991842 (7.078723)\n",
            "INFO:root:elapsed time this epoch 0 min\n",
            "INFO:root:elapsed step time 224.136325 steps/min\n",
            "INFO:root:average_train_loss 7.023094 (7.077429)\n",
            "INFO:root:average_train_loss 7.072514 (7.083620)\n",
            "INFO:root:average_train_loss 7.166380 (7.085274)\n",
            "INFO:root:average_train_loss 7.102442 (7.086951)\n",
            "INFO:root:elapsed time this epoch 0 min\n",
            "INFO:root:elapsed step time 234.614169 steps/min\n"
          ],
          "name": "stderr"
        },
        {
          "output_type": "stream",
          "text": [
            "['gs://lm-sample/wt2/valid/valid-1.tfrecord']\n",
            "{\n",
            "    \"average_train_loss\": 7.0869510769844055,\n",
            "    \"average_train_token_ppl\": 1196.2549455675983,\n",
            "    \"average_valid_loss\": 6.921506404876709,\n",
            "    \"average_valid_token_ppl\": 1013.8461074948805,\n",
            "    \"train_elapsed_min\": 0.2344627300898234,\n",
            "    \"valid_elapsed_min\": 0.017757968107859293\n",
            "}\n",
            "['gs://lm-sample/wt2/train/train-1.tfrecord']\n"
          ],
          "name": "stdout"
        },
        {
          "output_type": "stream",
          "text": [
            "INFO:root:average_train_loss 7.052373 (7.069500)\n",
            "INFO:root:average_train_loss 6.971196 (7.061917)\n",
            "INFO:root:average_train_loss 7.134079 (7.074579)\n",
            "INFO:root:average_train_loss 6.986671 (7.072146)\n",
            "INFO:root:elapsed time this epoch 0 min\n",
            "INFO:root:elapsed step time 219.371344 steps/min\n",
            "INFO:root:average_train_loss 7.014719 (7.071326)\n",
            "INFO:root:average_train_loss 7.056224 (7.077200)\n",
            "INFO:root:average_train_loss 7.159275 (7.078067)\n",
            "INFO:root:average_train_loss 7.115598 (7.080552)\n",
            "INFO:root:elapsed time this epoch 0 min\n",
            "INFO:root:elapsed step time 232.213536 steps/min\n"
          ],
          "name": "stderr"
        },
        {
          "output_type": "stream",
          "text": [
            "['gs://lm-sample/wt2/valid/valid-1.tfrecord']\n",
            "{\n",
            "    \"average_train_loss\": 7.080551649842944,\n",
            "    \"average_train_token_ppl\": 1188.624041948828,\n",
            "    \"average_valid_loss\": 6.925025081634521,\n",
            "    \"average_valid_token_ppl\": 1017.4197878551632,\n",
            "    \"train_elapsed_min\": 0.23689989646275839,\n",
            "    \"valid_elapsed_min\": 0.016894463698069254\n",
            "}\n",
            "['gs://lm-sample/wt2/train/train-1.tfrecord']\n"
          ],
          "name": "stdout"
        },
        {
          "output_type": "stream",
          "text": [
            "INFO:root:average_train_loss 7.052248 (7.072893)\n",
            "INFO:root:average_train_loss 6.965455 (7.062896)\n",
            "INFO:root:average_train_loss 7.130496 (7.072561)\n",
            "INFO:root:average_train_loss 6.979684 (7.068897)\n",
            "INFO:root:elapsed time this epoch 0 min\n",
            "INFO:root:elapsed step time 223.891026 steps/min\n",
            "INFO:root:average_train_loss 7.018552 (7.068156)\n",
            "INFO:root:average_train_loss 7.060385 (7.075008)\n",
            "INFO:root:average_train_loss 7.166669 (7.076176)\n",
            "INFO:root:average_train_loss 7.109795 (7.077964)\n",
            "INFO:root:elapsed time this epoch 0 min\n",
            "INFO:root:elapsed step time 236.651048 steps/min\n"
          ],
          "name": "stderr"
        },
        {
          "output_type": "stream",
          "text": [
            "['gs://lm-sample/wt2/valid/valid-1.tfrecord']\n",
            "{\n",
            "    \"average_train_loss\": 7.07796368428639,\n",
            "    \"average_train_token_ppl\": 1185.5519008808624,\n",
            "    \"average_valid_loss\": 6.922674942016601,\n",
            "    \"average_valid_token_ppl\": 1015.0315167881286,\n",
            "    \"train_elapsed_min\": 0.23245243628819784,\n",
            "    \"valid_elapsed_min\": 0.01715289751688639\n",
            "}\n",
            "['gs://lm-sample/wt2/train/train-1.tfrecord']\n"
          ],
          "name": "stdout"
        },
        {
          "output_type": "stream",
          "text": [
            "INFO:root:average_train_loss 7.040639 (7.062608)\n",
            "INFO:root:average_train_loss 6.966660 (7.057453)\n",
            "INFO:root:average_train_loss 7.135107 (7.069006)\n",
            "INFO:root:average_train_loss 6.982777 (7.066975)\n",
            "INFO:root:elapsed time this epoch 0 min\n",
            "INFO:root:elapsed step time 225.680995 steps/min\n",
            "INFO:root:average_train_loss 7.002903 (7.065869)\n",
            "INFO:root:average_train_loss 7.057163 (7.071733)\n",
            "INFO:root:average_train_loss 7.146387 (7.072354)\n",
            "INFO:root:average_train_loss 7.098791 (7.074349)\n",
            "INFO:root:elapsed time this epoch 0 min\n",
            "INFO:root:elapsed step time 235.311817 steps/min\n"
          ],
          "name": "stderr"
        },
        {
          "output_type": "stream",
          "text": [
            "['gs://lm-sample/wt2/valid/valid-1.tfrecord']\n",
            "{\n",
            "    \"average_train_loss\": 7.074348781790052,\n",
            "    \"average_train_token_ppl\": 1181.2739831410688,\n",
            "    \"average_valid_loss\": 6.929655265808106,\n",
            "    \"average_valid_token_ppl\": 1022.1415517373148,\n",
            "    \"train_elapsed_min\": 0.23378576834996542,\n",
            "    \"valid_elapsed_min\": 0.017217183113098146\n",
            "}\n",
            "['gs://lm-sample/wt2/train/train-1.tfrecord']\n"
          ],
          "name": "stdout"
        },
        {
          "output_type": "stream",
          "text": [
            "INFO:root:average_train_loss 7.047934 (7.065341)\n",
            "INFO:root:average_train_loss 6.957099 (7.054353)\n",
            "INFO:root:average_train_loss 7.125062 (7.063505)\n",
            "INFO:root:average_train_loss 6.979867 (7.060282)\n",
            "INFO:root:elapsed time this epoch 0 min\n",
            "INFO:root:elapsed step time 225.359945 steps/min\n",
            "INFO:root:average_train_loss 7.012157 (7.060666)\n",
            "INFO:root:average_train_loss 7.052740 (7.067972)\n",
            "INFO:root:average_train_loss 7.144591 (7.069101)\n",
            "INFO:root:average_train_loss 7.093135 (7.070628)\n",
            "INFO:root:elapsed time this epoch 0 min\n",
            "INFO:root:elapsed step time 236.754311 steps/min\n"
          ],
          "name": "stderr"
        },
        {
          "output_type": "stream",
          "text": [
            "['gs://lm-sample/wt2/valid/valid-1.tfrecord']\n",
            "{\n",
            "    \"average_train_loss\": 7.0706280299595425,\n",
            "    \"average_train_token_ppl\": 1176.8869224492157,\n",
            "    \"average_valid_loss\": 6.933663177490234,\n",
            "    \"average_valid_token_ppl\": 1026.2464252938164,\n",
            "    \"train_elapsed_min\": 0.23240904013315836,\n",
            "    \"valid_elapsed_min\": 0.01709201733271281\n",
            "}\n"
          ],
          "name": "stdout"
        }
      ]
    },
    {
      "cell_type": "markdown",
      "metadata": {
        "id": "a0cE-Ije8-xY",
        "colab_type": "text"
      },
      "source": [
        "### Wrap-Up and Next Steps\n",
        "\n",
        "In this example, we used the MEAD/Baseline API code to train a Transformer Language Model on TPUs.  To keep things very simple, we did not write out any checkpoints or any training logs.  To see how you would do this with the `CheckpointManager`, see the [full API example](https://github.com/dpressel/mead-baseline/blob/master/api-examples/pretrain-tlm-tf.py).\n",
        "\n",
        "Also, as this is just a sample, we used a very small dataset [wikitext-2](https://www.salesforce.com/products/einstein/ai-research/the-wikitext-dependency-language-modeling-dataset/).  To make a compelling MLM, you would want to use a much larger dataset and probably spend a bit more time with the hyper-parameters."
      ]
    }
  ]
}