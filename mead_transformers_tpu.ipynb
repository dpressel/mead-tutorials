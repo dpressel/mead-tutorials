{
  "nbformat": 4,
  "nbformat_minor": 0,
  "metadata": {
    "colab": {
      "name": "mead-transformers-tpu.ipynb",
      "provenance": [],
      "collapsed_sections": []
    },
    "kernelspec": {
      "name": "python3",
      "display_name": "Python 3"
    },
    "accelerator": "TPU"
  },
  "cells": [
    {
      "cell_type": "markdown",
      "metadata": {
        "id": "mC2DpvRTxA_I",
        "colab_type": "text"
      },
      "source": [
        "## Training Transformers on TPUs with the API\n",
        "\n",
        "In this example, we will demonstrate code to train Transformers on a TPU using MEAD/Baseline in TensorFlow.  The basic outline of the program is based on the API example [pretrain-tlm-tf](https://github.com/dpressel/mead-baseline/blob/master/api-examples/pretrain-tlm-tf.py):\n",
        "\n",
        "```\n",
        "python preproc-tlm.py --text /data/wt103/wiki.train --codes /data/wt103/codes.30k --vocab /data/wt103/vocab.30k --nctx 256 --prefix \"[CLS]\" --fmt tfrecord --fields x y --output /data/wt103/train/train\n",
        "python preproc-tlm.py --text /data/wt103/wiki.valid --codes /data/wt103/codes.30k --vocab /data/wt103/vocab.30k --nctx 256 --prefix \"[CLS]\" --fmt tfrecord --fields x y --output /data/wt103/valid/valid\n",
        "```\n",
        "\n",
        "The data for this sample is a preprocessed version of [wikitext-103](https://www.salesforce.com/products/einstein/ai-research/the-wikitext-dependency-language-modeling-dataset/) available from a GCP bucket. It was preprocessed from the original data using the API example [preproc-tlm](https://github.com/dpressel/mead-baseline/blob/master/api-examples/pretrain-tlm-tf.py) with command-line args specified to generate [TFRecords](https://www.tensorflow.org/tutorials/load_data/tfrecord).  To access them, we need to start by authenticating our colab user."
      ]
    },
    {
      "cell_type": "code",
      "metadata": {
        "id": "g0TvXEMqA50x",
        "colab_type": "code",
        "outputId": "5b0b0d10-24e0-4ba2-c242-f6b357625d19",
        "colab": {
          "base_uri": "https://localhost:8080/",
          "height": 51
        }
      },
      "source": [
        "from google.colab import auth\n",
        "import os\n",
        "auth.authenticate_user()\n",
        "\n",
        "!gsutil ls gs://lm-sample\n",
        "os.environ['COLAB_SKIP_TPU_AUTH'] = '1'"
      ],
      "execution_count": 1,
      "outputs": [
        {
          "output_type": "stream",
          "text": [
            "gs://lm-sample/wt103/\n",
            "gs://lm-sample/wt2/\n"
          ],
          "name": "stdout"
        }
      ]
    },
    {
      "cell_type": "markdown",
      "metadata": {
        "id": "4qh4tPpgyB-1",
        "colab_type": "text"
      },
      "source": [
        "The meta-data we need to process this example is publicly available on dropbox, and was previously processed with [preproc-tlm](https://github.com/dpressel/mead-baseline/blob/master/api-examples/pretrain-tlm-tf.py) (to generate the `YAML` md files), and [fastBPE](https://github.com/glample/fastBPE) was run to generate the vocab and codes files.\n"
      ]
    },
    {
      "cell_type": "code",
      "metadata": {
        "id": "iqCanwBPaT-G",
        "colab_type": "code",
        "outputId": "27161ee2-f486-457d-b622-ac8ca1fb1ea7",
        "colab": {
          "base_uri": "https://localhost:8080/",
          "height": 377
        }
      },
      "source": [
        "\n",
        "!wget https://www.dropbox.com/s/5zgh532d72yhhqm/wt103-md.tar.gz?dl=1\n",
        "!tar -xzf wt103-md.tar.gz?dl=1\n",
        "!rm wt103-md.tar.gz?dl=1"
      ],
      "execution_count": 2,
      "outputs": [
        {
          "output_type": "stream",
          "text": [
            "--2020-06-16 01:42:34--  https://www.dropbox.com/s/5zgh532d72yhhqm/wt103-md.tar.gz?dl=1\n",
            "Resolving www.dropbox.com (www.dropbox.com)... 162.125.3.1, 2620:100:6018:1::a27d:301\n",
            "Connecting to www.dropbox.com (www.dropbox.com)|162.125.3.1|:443... connected.\n",
            "HTTP request sent, awaiting response... 301 Moved Permanently\n",
            "Location: /s/dl/5zgh532d72yhhqm/wt103-md.tar.gz [following]\n",
            "--2020-06-16 01:42:35--  https://www.dropbox.com/s/dl/5zgh532d72yhhqm/wt103-md.tar.gz\n",
            "Reusing existing connection to www.dropbox.com:443.\n",
            "HTTP request sent, awaiting response... 302 Found\n",
            "Location: https://ucff674b39a751b0655f5bed9942.dl.dropboxusercontent.com/cd/0/get/A5swyHaces02b5pGBeXHVgjEn1RaGT1xJdPxzVnKkFw5DPatDdDpTeE1Ud4UKK5OyQ1T-msR8cikvO0nXwsLhzS4c2TO7OKCI0UbK7i1kOjhH24BExrx4_YxNoI-4L3l_BE/file?dl=1# [following]\n",
            "--2020-06-16 01:42:35--  https://ucff674b39a751b0655f5bed9942.dl.dropboxusercontent.com/cd/0/get/A5swyHaces02b5pGBeXHVgjEn1RaGT1xJdPxzVnKkFw5DPatDdDpTeE1Ud4UKK5OyQ1T-msR8cikvO0nXwsLhzS4c2TO7OKCI0UbK7i1kOjhH24BExrx4_YxNoI-4L3l_BE/file?dl=1\n",
            "Resolving ucff674b39a751b0655f5bed9942.dl.dropboxusercontent.com (ucff674b39a751b0655f5bed9942.dl.dropboxusercontent.com)... 162.125.3.15, 2620:100:6018:15::a27d:30f\n",
            "Connecting to ucff674b39a751b0655f5bed9942.dl.dropboxusercontent.com (ucff674b39a751b0655f5bed9942.dl.dropboxusercontent.com)|162.125.3.15|:443... connected.\n",
            "HTTP request sent, awaiting response... 200 OK\n",
            "Length: 334529 (327K) [application/binary]\n",
            "Saving to: ‘wt103-md.tar.gz?dl=1’\n",
            "\n",
            "wt103-md.tar.gz?dl= 100%[===================>] 326.69K  --.-KB/s    in 0.04s   \n",
            "\n",
            "2020-06-16 01:42:35 (7.40 MB/s) - ‘wt103-md.tar.gz?dl=1’ saved [334529/334529]\n",
            "\n"
          ],
          "name": "stdout"
        }
      ]
    },
    {
      "cell_type": "code",
      "metadata": {
        "id": "AfG2WzmaWgPz",
        "colab_type": "code",
        "outputId": "76d90663-0376-47ae-a2de-1e8e482eeb24",
        "colab": {
          "base_uri": "https://localhost:8080/",
          "height": 34
        }
      },
      "source": [
        "!ls\n",
        "\n"
      ],
      "execution_count": 3,
      "outputs": [
        {
          "output_type": "stream",
          "text": [
            "adc.json  sample_data  wt103\n"
          ],
          "name": "stdout"
        }
      ]
    },
    {
      "cell_type": "markdown",
      "metadata": {
        "id": "KuLRafQAy9-p",
        "colab_type": "text"
      },
      "source": [
        "To run our example, we need to install TensorFlow, [fastBPE](https://github.com/glample/fastBPE), and MEAD/Baseline with [TensorFlow addons](https://www.tensorflow.org/addons/overview).  If you get an error at the end of this command, run it a second time."
      ]
    },
    {
      "cell_type": "code",
      "metadata": {
        "id": "MN9XRH6eBnj4",
        "colab_type": "code",
        "outputId": "7f1d262d-585b-40b6-cf84-29f3a0841349",
        "colab": {
          "base_uri": "https://localhost:8080/",
          "height": 785
        }
      },
      "source": [
        "!pip install tensorflow\n",
        "!pip install fastBPE\n",
        "!pip install mead-baseline[tf2]"
      ],
      "execution_count": 4,
      "outputs": [
        {
          "output_type": "stream",
          "text": [
            "Requirement already satisfied: tensorflow in /usr/local/lib/python3.6/dist-packages (2.2.0)\n",
            "Requirement already satisfied: opt-einsum>=2.3.2 in /usr/local/lib/python3.6/dist-packages (from tensorflow) (3.2.1)\n",
            "Requirement already satisfied: google-pasta>=0.1.8 in /usr/local/lib/python3.6/dist-packages (from tensorflow) (0.2.0)\n",
            "Requirement already satisfied: h5py<2.11.0,>=2.10.0 in /usr/local/lib/python3.6/dist-packages (from tensorflow) (2.10.0)\n",
            "Requirement already satisfied: keras-preprocessing>=1.1.0 in /usr/local/lib/python3.6/dist-packages (from tensorflow) (1.1.2)\n",
            "Requirement already satisfied: tensorflow-estimator<2.3.0,>=2.2.0 in /usr/local/lib/python3.6/dist-packages (from tensorflow) (2.2.0)\n",
            "Requirement already satisfied: wrapt>=1.11.1 in /usr/local/lib/python3.6/dist-packages (from tensorflow) (1.12.1)\n",
            "Requirement already satisfied: grpcio>=1.8.6 in /usr/local/lib/python3.6/dist-packages (from tensorflow) (1.29.0)\n",
            "Requirement already satisfied: scipy==1.4.1; python_version >= \"3\" in /usr/local/lib/python3.6/dist-packages (from tensorflow) (1.4.1)\n",
            "Requirement already satisfied: tensorboard<2.3.0,>=2.2.0 in /usr/local/lib/python3.6/dist-packages (from tensorflow) (2.2.2)\n",
            "Requirement already satisfied: astunparse==1.6.3 in /usr/local/lib/python3.6/dist-packages (from tensorflow) (1.6.3)\n",
            "Requirement already satisfied: six>=1.12.0 in /usr/local/lib/python3.6/dist-packages (from tensorflow) (1.12.0)\n",
            "Requirement already satisfied: numpy<2.0,>=1.16.0 in /usr/local/lib/python3.6/dist-packages (from tensorflow) (1.18.5)\n",
            "Requirement already satisfied: gast==0.3.3 in /usr/local/lib/python3.6/dist-packages (from tensorflow) (0.3.3)\n",
            "Requirement already satisfied: protobuf>=3.8.0 in /usr/local/lib/python3.6/dist-packages (from tensorflow) (3.10.0)\n",
            "Requirement already satisfied: absl-py>=0.7.0 in /usr/local/lib/python3.6/dist-packages (from tensorflow) (0.9.0)\n",
            "Requirement already satisfied: termcolor>=1.1.0 in /usr/local/lib/python3.6/dist-packages (from tensorflow) (1.1.0)\n",
            "Requirement already satisfied: wheel>=0.26; python_version >= \"3\" in /usr/local/lib/python3.6/dist-packages (from tensorflow) (0.34.2)\n",
            "Requirement already satisfied: werkzeug>=0.11.15 in /usr/local/lib/python3.6/dist-packages (from tensorboard<2.3.0,>=2.2.0->tensorflow) (1.0.1)\n",
            "Requirement already satisfied: google-auth-oauthlib<0.5,>=0.4.1 in /usr/local/lib/python3.6/dist-packages (from tensorboard<2.3.0,>=2.2.0->tensorflow) (0.4.1)\n",
            "Requirement already satisfied: requests<3,>=2.21.0 in /usr/local/lib/python3.6/dist-packages (from tensorboard<2.3.0,>=2.2.0->tensorflow) (2.23.0)\n",
            "Requirement already satisfied: tensorboard-plugin-wit>=1.6.0 in /usr/local/lib/python3.6/dist-packages (from tensorboard<2.3.0,>=2.2.0->tensorflow) (1.6.0.post3)\n",
            "Requirement already satisfied: setuptools>=41.0.0 in /usr/local/lib/python3.6/dist-packages (from tensorboard<2.3.0,>=2.2.0->tensorflow) (47.1.1)\n",
            "Requirement already satisfied: markdown>=2.6.8 in /usr/local/lib/python3.6/dist-packages (from tensorboard<2.3.0,>=2.2.0->tensorflow) (3.2.2)\n",
            "Requirement already satisfied: google-auth<2,>=1.6.3 in /usr/local/lib/python3.6/dist-packages (from tensorboard<2.3.0,>=2.2.0->tensorflow) (1.7.2)\n",
            "Requirement already satisfied: requests-oauthlib>=0.7.0 in /usr/local/lib/python3.6/dist-packages (from google-auth-oauthlib<0.5,>=0.4.1->tensorboard<2.3.0,>=2.2.0->tensorflow) (1.3.0)\n",
            "Requirement already satisfied: chardet<4,>=3.0.2 in /usr/local/lib/python3.6/dist-packages (from requests<3,>=2.21.0->tensorboard<2.3.0,>=2.2.0->tensorflow) (3.0.4)\n",
            "Requirement already satisfied: urllib3!=1.25.0,!=1.25.1,<1.26,>=1.21.1 in /usr/local/lib/python3.6/dist-packages (from requests<3,>=2.21.0->tensorboard<2.3.0,>=2.2.0->tensorflow) (1.24.3)\n",
            "Requirement already satisfied: certifi>=2017.4.17 in /usr/local/lib/python3.6/dist-packages (from requests<3,>=2.21.0->tensorboard<2.3.0,>=2.2.0->tensorflow) (2020.4.5.1)\n",
            "Requirement already satisfied: idna<3,>=2.5 in /usr/local/lib/python3.6/dist-packages (from requests<3,>=2.21.0->tensorboard<2.3.0,>=2.2.0->tensorflow) (2.9)\n",
            "Requirement already satisfied: importlib-metadata; python_version < \"3.8\" in /usr/local/lib/python3.6/dist-packages (from markdown>=2.6.8->tensorboard<2.3.0,>=2.2.0->tensorflow) (1.6.0)\n",
            "Requirement already satisfied: rsa<4.1,>=3.1.4 in /usr/local/lib/python3.6/dist-packages (from google-auth<2,>=1.6.3->tensorboard<2.3.0,>=2.2.0->tensorflow) (4.0)\n",
            "Requirement already satisfied: pyasn1-modules>=0.2.1 in /usr/local/lib/python3.6/dist-packages (from google-auth<2,>=1.6.3->tensorboard<2.3.0,>=2.2.0->tensorflow) (0.2.8)\n",
            "Requirement already satisfied: cachetools<3.2,>=2.0.0 in /usr/local/lib/python3.6/dist-packages (from google-auth<2,>=1.6.3->tensorboard<2.3.0,>=2.2.0->tensorflow) (3.1.1)\n",
            "Requirement already satisfied: oauthlib>=3.0.0 in /usr/local/lib/python3.6/dist-packages (from requests-oauthlib>=0.7.0->google-auth-oauthlib<0.5,>=0.4.1->tensorboard<2.3.0,>=2.2.0->tensorflow) (3.1.0)\n",
            "Requirement already satisfied: zipp>=0.5 in /usr/local/lib/python3.6/dist-packages (from importlib-metadata; python_version < \"3.8\"->markdown>=2.6.8->tensorboard<2.3.0,>=2.2.0->tensorflow) (3.1.0)\n",
            "Requirement already satisfied: pyasn1>=0.1.3 in /usr/local/lib/python3.6/dist-packages (from rsa<4.1,>=3.1.4->google-auth<2,>=1.6.3->tensorboard<2.3.0,>=2.2.0->tensorflow) (0.4.8)\n",
            "Requirement already satisfied: fastBPE in /usr/local/lib/python3.6/dist-packages (0.1.0)\n",
            "Requirement already satisfied: mead-baseline[tf2] in /usr/local/lib/python3.6/dist-packages (2.0.6)\n",
            "Requirement already satisfied: numpy in /usr/local/lib/python3.6/dist-packages (from mead-baseline[tf2]) (1.18.5)\n",
            "Requirement already satisfied: six in /usr/local/lib/python3.6/dist-packages (from mead-baseline[tf2]) (1.12.0)\n",
            "Requirement already satisfied: mead-layers==2.0.6 in /usr/local/lib/python3.6/dist-packages (from mead-baseline[tf2]) (2.0.6)\n",
            "Requirement already satisfied: tensorflow-addons; extra == \"tf2\" in /usr/local/lib/python3.6/dist-packages (from mead-baseline[tf2]) (0.8.3)\n",
            "Requirement already satisfied: typeguard in /usr/local/lib/python3.6/dist-packages (from tensorflow-addons; extra == \"tf2\"->mead-baseline[tf2]) (2.7.1)\n"
          ],
          "name": "stdout"
        }
      ]
    },
    {
      "cell_type": "markdown",
      "metadata": {
        "id": "3NtsNn6Hzc8G",
        "colab_type": "text"
      },
      "source": [
        "To run our example, we will need to import the `BPEVectorizer1D` which is reponsible for vectorizing text to BPE form, a few utilities from 8-mile including the entire optimizer base and TF packages, as well as the language models we will be using from the `baseline.tf.lm` package."
      ]
    },
    {
      "cell_type": "code",
      "metadata": {
        "id": "Zg4tATmaB4tx",
        "colab_type": "code",
        "colab": {}
      },
      "source": [
        "import time\n",
        "import os\n",
        "from argparse import ArgumentParser\n",
        "import math\n",
        "from typing import Tuple\n",
        "import baseline\n",
        "from eight_mile.utils import str2bool, write_json\n",
        "import baseline.tf.embeddings\n",
        "import baseline.embeddings\n",
        "from baseline.vectorizers import BPEVectorizer1D\n",
        "from eight_mile.utils import Average, get_num_gpus_multiworker, read_yaml\n",
        "from eight_mile.optz import *\n",
        "from eight_mile.tf.optz import *\n",
        "from baseline.tf.lm import SET_TRAIN_FLAG, TransformerLanguageModel, TransformerMaskedLanguageModel\n",
        "import tensorflow as tf\n",
        "import glob\n",
        "import json\n",
        "\n",
        "logger = logging.getLogger(\"mead-transformers-tpu\")"
      ],
      "execution_count": 0,
      "outputs": []
    },
    {
      "cell_type": "markdown",
      "metadata": {
        "id": "Hw-kvOVd0PNI",
        "colab_type": "text"
      },
      "source": [
        "Here we will define the loss as a function object -- a class with an overloaded `__call__()` function.  We will instantiate using the normal constructor (which takes the BPE `vocab_size` and the context window size), but when its called during optimization, the instance name is called with parens (containing the `model`, `features` and `labels`) as though it was a normal function."
      ]
    },
    {
      "cell_type": "code",
      "metadata": {
        "id": "zZLqR4aGCWY0",
        "colab_type": "code",
        "colab": {}
      },
      "source": [
        "\n",
        "class Loss:\n",
        "    def __init__(self, vocab_size, nctx):\n",
        "        self.vocab_size = vocab_size\n",
        "        self.nctx = nctx\n",
        "\n",
        "    def __call__(self, model, features, labels):\n",
        "        logits, _ = model(features, None)\n",
        "        loss_mask = tf.cast(labels != 0, tf.float32)\n",
        "        losses = tf.nn.sparse_softmax_cross_entropy_with_logits(logits=logits, labels=labels)\n",
        "        losses = losses * loss_mask\n",
        "        losses = tf.reduce_sum(losses)\n",
        "        non_zero = tf.reduce_sum(loss_mask)\n",
        "        losses /= non_zero\n",
        "        return losses"
      ],
      "execution_count": 0,
      "outputs": []
    },
    {
      "cell_type": "markdown",
      "metadata": {
        "id": "4eaaBALe0wXY",
        "colab_type": "text"
      },
      "source": [
        "Our preprocessed data files are written in shards of TFRecords (of size ~100MB each) with the feature `x` representing the integer values of the input BPE tokens and `y` representing the target integer values to recover during masked language modeling).\n",
        "\n",
        "Here is an example of what these records would look like as a JSON object:\n",
        "\n",
        "```json\n",
        "{\n",
        "  \"x\": [4, 10, 99, 1926, 21, 128, 11, 106, 5, 13288, 33, 7, 5409, 565, 399, 6, 26, 10, 20, 1191, 153, 283, 13, 39, 399, 57, 6, 10, 49, 1616, 5, 63, 1822, 11, 106, 58, 5, 10, 117, 183, 195, 283, 18, 7, 295, 11, 59, 6, 5, 5, 99, 1238, 13, 484, 5, 11723, 852, 18, 2652, 8, 330, 292, 5, 50, 5, 88, 11, 6, 168, 13, 75, 87, 5, 830, 7820, 3012, 18, 834, 9559, 13, 135, 1175, 19, 32, 49, 134, 13, 11, 53, 15, 7, 5939, 1069, 30, 2, 86, 1238, 5, 382, 5129, 8, 4882, 4211, 3383, 42, 5, 19213, 6, 7, 3594, 5, 33, 5129, 5, 221, 17, 140, 8, 38, 5, 49, 127, 19, 7, 11963, 39, 2549, 131, 6, 2, 100, 1238, 13, 39, 28, 18, 2562, 18, 4428, 14327, 7, 44, 12, 1610, 5, 979, 2021, 194, 221, 51, 6, 26, 10, 5, 8432, 7, 3594, 44, 379, 3010, 5, 495, 33, 19, 71, 6, 5, 47, 1713, 174, 16, 644, 15, 231, 7, 3442, 3378, 6, 5, 5, 37, 10, 52, 7, 632, 5, 13, 8, 13, 356, 52, 12, 5, 5, 5, 194, 7, 700, 15, 7, 5, 8, 9311, 28, 1090, 5, 84, 657, 11858, 14043, 8, 9, 294, 27, 28, 37, 63, 6772, 42, 2697, 37, 5, 2488, 19, 31, 347, 21, 7, 971, 41, 5, 2299, 5, 5, 20151, 1645, 37, 11, 66, 294, 5, 18, 7, 5, 15, 7, 5, 17, 233, 19, 92, 56, 13, 5, 86, 5],\n",
        "  \"y\": [0, 0, 0, 0, 0, 0, 0, 0, 7, 0, 0, 0, 0, 0, 0, 0, 0, 0, 0, 0, 0, 0, 0, 0, 0, 0, 0, 0, 0, 0, 12, 0, 0, 0, 0, 0, 36, 0, 0, 0, 0, 0, 0, 0, 0, 0, 0, 0, 2, 10, 0, 0, 0, 0, 11, 0, 0, 0, 0, 0, 0, 0, 17, 0, 11, 0, 0, 0, 0, 0, 0, 0, 18408, 0, 0, 0, 0, 834, 0, 0, 0, 0, 0, 32, 0, 0, 0, 0, 0, 0, 0, 0, 0, 0, 0, 0, 0, 17, 0, 0, 0, 0, 0, 0, 0, 15380, 0, 0, 0, 0, 20, 0, 0, 194, 0, 0, 0, 0, 0, 10, 0, 0, 0, 0, 0, 0, 0, 0, 0, 0, 0, 0, 0, 0, 0, 0, 0, 0, 0, 6, 7, 0, 0, 0, 15, 0, 0, 0, 0, 0, 0, 0, 0, 83, 127, 0, 0, 0, 0, 0, 6605, 0, 0, 0, 0, 0, 2, 0, 0, 0, 0, 0, 0, 0, 0, 0, 0, 0, 37, 118, 0, 0, 0, 7, 0, 15, 0, 0, 0, 0, 0, 0, 878, 19, 416, 0, 0, 0, 0, 0, 342, 0, 46, 0, 0, 6002, 0, 0, 0, 0, 0, 0, 0, 0, 0, 0, 0, 0, 0, 0, 0, 3442, 0, 0, 0, 0, 0, 0, 0, 0, 2839, 0, 6, 83, 72, 0, 37, 0, 0, 0, 28, 0, 0, 668, 0, 0, 3378, 0, 0, 0, 0, 0, 0, 30, 0, 644]\n",
        "}\n",
        "```\n",
        "\n",
        "To read the TFRecords, we need a descriptor of these features, and we need to use the [tf.io.parse_single_example()](https://www.tensorflow.org/api_docs/python/tf/io/parse_single_example) function, which we will apply to each record.\n",
        "\n",
        "These files are stored on a GCP bucket, so when we call `get_dataset()` below, we will `glob` the bucket for `*.tfrecord` files then map each record retreival to a pipeline that includes parsing the example."
      ]
    },
    {
      "cell_type": "code",
      "metadata": {
        "id": "Sha4CdqHCb9N",
        "colab_type": "code",
        "colab": {}
      },
      "source": [
        "\n",
        "\n",
        "feature_description = {\n",
        "    'x': tf.io.FixedLenSequenceFeature([], tf.int64, allow_missing=True, default_value=0),\n",
        "    'y': tf.io.FixedLenSequenceFeature([], tf.int64, allow_missing=True, default_value=0),\n",
        "}\n",
        "\n",
        "\n",
        "def _parse_tf_record(example_proto):\n",
        "    record = tf.io.parse_single_example(example_proto, feature_description)\n",
        "    return record['x'], record['y']\n",
        "\n",
        "\n",
        "def get_dataset(directory):\n",
        "    pattern = os.path.join(directory, f'*.tfrecord')\n",
        "    files = tf.io.gfile.glob(pattern)\n",
        "    print(files)\n",
        "    ds = tf.data.TFRecordDataset(files).map(_parse_tf_record)\n",
        "    return ds"
      ],
      "execution_count": 0,
      "outputs": []
    },
    {
      "cell_type": "markdown",
      "metadata": {
        "id": "xXUJzFdL2hPY",
        "colab_type": "text"
      },
      "source": [
        "Our example will use the `tf.distribute` library, which allows us to provide a [tf.distribute.Strategy](https://www.tensorflow.org/api_docs/python/tf/distribute/Strategy) for handling distribution details. We just need to create the right sub-class, in this case a [TPUStrategy](https://www.tensorflow.org/api_docs/python/tf/distribute/experimental/TPUStrategy), which we will need to initialize with a [TPUClusterResolver](https://www.tensorflow.org/api_docs/python/tf/distribute/cluster_resolver/TPUClusterResolver) that takes in an address for the TPU.  Because this example is in colab, we are going to end up calling this function with an empty address and it will use the environment variable `COLAB_TPU_ADDR` to resolve our TPU address."
      ]
    },
    {
      "cell_type": "code",
      "metadata": {
        "id": "lmK8E16KCmnG",
        "colab_type": "code",
        "colab": {}
      },
      "source": [
        "def create_distribute_strategy(strategy_name, endpoint=None):\n",
        "    if strategy_name == 'tpu':\n",
        "        if endpoint is None:\n",
        "            endpoint = 'grpc://' + os.environ['COLAB_TPU_ADDR']\n",
        "        resolver = tf.distribute.cluster_resolver.TPUClusterResolver(tpu=endpoint)\n",
        "        tf.config.experimental_connect_to_cluster(resolver)\n",
        "        # This is the TPU initialization code that has to be at the beginning.\n",
        "        tf.tpu.experimental.initialize_tpu_system(resolver)\n",
        "        print(\"All devices: \", tf.config.list_logical_devices('TPU'))\n",
        "        strategy = tf.distribute.experimental.TPUStrategy(resolver)\n",
        "    elif strategy_name == 'mirror':\n",
        "        num_gpus = get_num_gpus_multiworker()\n",
        "        devices = ['/device:GPU:{}'.format(i) for i in range(num_gpus)]\n",
        "        strategy = tf.distribute.MirroredStrategy(devices)\n",
        "    else:\n",
        "        raise Exception(f\"Unsupported strategy {strategy_name}\")\n",
        "    return strategy"
      ],
      "execution_count": 0,
      "outputs": []
    },
    {
      "cell_type": "markdown",
      "metadata": {
        "id": "WKJrbuSx32bi",
        "colab_type": "text"
      },
      "source": [
        "Now that we have set up a lot of the boilerplate we can go ahead and create our\n",
        "1. `tf.distribute.Strategy` using the function above\n",
        "2. `baseline.Vectorizer` which we will use to initialize the vocabulary of our model\n",
        "3. `baseline.embeddings` whch we will use to initalize a lookup table that projects from our vocabulary size to a hidden unit size (`MLM_MODEL_SZ` below)\n",
        "4. `baseline.tf.lm.TransformerMaskedLanguageModel` which is the model we will be training.  It is built internally on `8 mile` by using an [eight_mile.tf.layers.TransformerEncoderStack](https://github.com/dpressel/mead-baseline/blob/master/layers/eight_mile/tf/layers.py), which composes a stack of `Transformer` encoders with interleaved multi-head attention and FFN sub-stacks.\n",
        "\n",
        "The `TransformerMaskedLanguageModel` is a type of `class AbstractGeneratorModel(LanguageModelBase)`, which defines the abstract phases to create a `LanguageModel`:\n",
        "\n",
        "```python\n",
        "    def create_layers(self, embeddings, **kwargs):\n",
        "        self.embeddings = self.init_embed(embeddings, **kwargs)\n",
        "        self.embeddings_proj = self.init_embeddings_proj(**kwargs)\n",
        "        self.generator = self.init_generate(**kwargs)\n",
        "        self.output_layer = self.init_output(embeddings, **kwargs)\n",
        "```\n",
        "\n",
        "This gets sub-classed by the `TransformerLanguageModel` to provide a `Transformer`-based `generator` object:\n",
        "\n",
        "```python\n",
        "    def init_generate(self, **kwargs):\n",
        "        pdrop = float(kwargs.get('dropout', 0.1))\n",
        "        layers = kwargs.get('layers', kwargs.get('num_layers', 1))\n",
        "        d_model = int(kwargs.get('d_model', kwargs.get('hsz')))\n",
        "        num_heads = kwargs.get('num_heads', 4)\n",
        "        d_ff = int(kwargs.get('d_ff', 4 * d_model))\n",
        "        rpr_k = kwargs.get('rpr_k')\n",
        "        d_k = kwargs.get('d_k')\n",
        "        scale = bool(kwargs.get('scale', True))\n",
        "        activation = kwargs.get('activation', 'gelu')\n",
        "        layer_norm_eps = kwargs.get('layer_norm_eps', 1e-12)\n",
        "        layer_norms_after = kwargs.get('layer_norms_after', False)\n",
        "        return TransformerEncoderStack(num_heads, d_model=d_model, pdrop=pdrop, scale=scale,\n",
        "                                       layers=layers, d_ff=d_ff, rpr_k=rpr_k, d_k=d_k,\n",
        "                                       activation=activation, layer_norm_eps=layer_norm_eps,\n",
        "                                       layer_norms_after=layer_norms_after)\n",
        "```"
      ]
    },
    {
      "cell_type": "code",
      "metadata": {
        "id": "aioXP-exCsFL",
        "colab_type": "code",
        "outputId": "e774c14c-9c7d-4906-f212-0622293f3490",
        "colab": {
          "base_uri": "https://localhost:8080/",
          "height": 768
        }
      },
      "source": [
        "\n",
        "\n",
        "MLM_MODEL_SZ = 512\n",
        "MLM_FFN_SZ = 4 * MLM_MODEL_SZ\n",
        "MLM_CONTEXT_LENGTH = 256\n",
        "MLM_REL_POS_REPR = 8\n",
        "MLM_DROPOUT = 0.1\n",
        "MLM_NUM_HEADS = 8\n",
        "MLM_NUM_LAYERS = 8\n",
        "SET_TRAIN_FLAG(True)\n",
        "\n",
        "SUBWORD_MODEL_FILE = './wt103/codes.30k'\n",
        "SUBWORD_VOCAB_FILE = './wt103/vocab.30k'\n",
        "\n",
        "logging.basicConfig(level=logging.INFO)\n",
        "\n",
        "strategy = create_distribute_strategy(\"tpu\")\n",
        "num_replicas = strategy.num_replicas_in_sync\n",
        "logger.info(f\"Using {num_replicas} replicas in this job.\")\n",
        "vectorizer = BPEVectorizer1D(model_file=SUBWORD_MODEL_FILE,\n",
        "                             vocab_file=SUBWORD_VOCAB_FILE,\n",
        "                             mxlen=MLM_MODEL_SZ)\n",
        "vocab = {'x': vectorizer.vocab}\n",
        "preproc_data = baseline.embeddings.load_embeddings('x',\n",
        "                                                   dsz=MLM_MODEL_SZ,\n",
        "                                                   known_vocab=vocab['x'],\n",
        "                                                   preserve_vocab_indices=True,\n",
        "                                                   embed_type=\"default\")\n",
        "vocabs = preproc_data['vocab']\n",
        "vocab_size = max(vocabs.values())\n",
        "embeddings = {'x': preproc_data['embeddings']}\n",
        "\n",
        "model = TransformerMaskedLanguageModel.create(embeddings,\n",
        "                                              hsz=MLM_MODEL_SZ,\n",
        "                                              d_ff=MLM_FFN_SZ,\n",
        "                                              tie_weights=True,\n",
        "                                              dropout=MLM_DROPOUT,\n",
        "                                              num_heads=MLM_NUM_HEADS,\n",
        "                                              layers=MLM_NUM_LAYERS,\n",
        "                                              rpr_k=MLM_REL_POS_REPR,\n",
        "                                              src_keys=['x'], tgt_key='x')\n"
      ],
      "execution_count": 9,
      "outputs": [
        {
          "output_type": "stream",
          "text": [
            "INFO:absl:Entering into master device scope: /job:worker/replica:0/task:0/device:CPU:0\n"
          ],
          "name": "stderr"
        },
        {
          "output_type": "stream",
          "text": [
            "INFO:tensorflow:Initializing the TPU system: grpc://10.86.168.82:8470\n"
          ],
          "name": "stdout"
        },
        {
          "output_type": "stream",
          "text": [
            "INFO:tensorflow:Initializing the TPU system: grpc://10.86.168.82:8470\n"
          ],
          "name": "stderr"
        },
        {
          "output_type": "stream",
          "text": [
            "INFO:tensorflow:Clearing out eager caches\n"
          ],
          "name": "stdout"
        },
        {
          "output_type": "stream",
          "text": [
            "INFO:tensorflow:Clearing out eager caches\n"
          ],
          "name": "stderr"
        },
        {
          "output_type": "stream",
          "text": [
            "INFO:tensorflow:Finished initializing TPU system.\n"
          ],
          "name": "stdout"
        },
        {
          "output_type": "stream",
          "text": [
            "INFO:tensorflow:Finished initializing TPU system.\n"
          ],
          "name": "stderr"
        },
        {
          "output_type": "stream",
          "text": [
            "All devices:  [LogicalDevice(name='/job:worker/replica:0/task:0/device:TPU:7', device_type='TPU'), LogicalDevice(name='/job:worker/replica:0/task:0/device:TPU:6', device_type='TPU'), LogicalDevice(name='/job:worker/replica:0/task:0/device:TPU:5', device_type='TPU'), LogicalDevice(name='/job:worker/replica:0/task:0/device:TPU:4', device_type='TPU'), LogicalDevice(name='/job:worker/replica:0/task:0/device:TPU:0', device_type='TPU'), LogicalDevice(name='/job:worker/replica:0/task:0/device:TPU:1', device_type='TPU'), LogicalDevice(name='/job:worker/replica:0/task:0/device:TPU:2', device_type='TPU'), LogicalDevice(name='/job:worker/replica:0/task:0/device:TPU:3', device_type='TPU')]\n",
            "INFO:tensorflow:Found TPU system:\n"
          ],
          "name": "stdout"
        },
        {
          "output_type": "stream",
          "text": [
            "INFO:tensorflow:Found TPU system:\n"
          ],
          "name": "stderr"
        },
        {
          "output_type": "stream",
          "text": [
            "INFO:tensorflow:*** Num TPU Cores: 8\n"
          ],
          "name": "stdout"
        },
        {
          "output_type": "stream",
          "text": [
            "INFO:tensorflow:*** Num TPU Cores: 8\n"
          ],
          "name": "stderr"
        },
        {
          "output_type": "stream",
          "text": [
            "INFO:tensorflow:*** Num TPU Workers: 1\n"
          ],
          "name": "stdout"
        },
        {
          "output_type": "stream",
          "text": [
            "INFO:tensorflow:*** Num TPU Workers: 1\n"
          ],
          "name": "stderr"
        },
        {
          "output_type": "stream",
          "text": [
            "INFO:tensorflow:*** Num TPU Cores Per Worker: 8\n"
          ],
          "name": "stdout"
        },
        {
          "output_type": "stream",
          "text": [
            "INFO:tensorflow:*** Num TPU Cores Per Worker: 8\n"
          ],
          "name": "stderr"
        },
        {
          "output_type": "stream",
          "text": [
            "INFO:tensorflow:*** Available Device: _DeviceAttributes(/job:localhost/replica:0/task:0/device:CPU:0, CPU, 0, 0)\n"
          ],
          "name": "stdout"
        },
        {
          "output_type": "stream",
          "text": [
            "INFO:tensorflow:*** Available Device: _DeviceAttributes(/job:localhost/replica:0/task:0/device:CPU:0, CPU, 0, 0)\n"
          ],
          "name": "stderr"
        },
        {
          "output_type": "stream",
          "text": [
            "INFO:tensorflow:*** Available Device: _DeviceAttributes(/job:localhost/replica:0/task:0/device:XLA_CPU:0, XLA_CPU, 0, 0)\n"
          ],
          "name": "stdout"
        },
        {
          "output_type": "stream",
          "text": [
            "INFO:tensorflow:*** Available Device: _DeviceAttributes(/job:localhost/replica:0/task:0/device:XLA_CPU:0, XLA_CPU, 0, 0)\n"
          ],
          "name": "stderr"
        },
        {
          "output_type": "stream",
          "text": [
            "INFO:tensorflow:*** Available Device: _DeviceAttributes(/job:worker/replica:0/task:0/device:CPU:0, CPU, 0, 0)\n"
          ],
          "name": "stdout"
        },
        {
          "output_type": "stream",
          "text": [
            "INFO:tensorflow:*** Available Device: _DeviceAttributes(/job:worker/replica:0/task:0/device:CPU:0, CPU, 0, 0)\n"
          ],
          "name": "stderr"
        },
        {
          "output_type": "stream",
          "text": [
            "INFO:tensorflow:*** Available Device: _DeviceAttributes(/job:worker/replica:0/task:0/device:TPU:0, TPU, 0, 0)\n"
          ],
          "name": "stdout"
        },
        {
          "output_type": "stream",
          "text": [
            "INFO:tensorflow:*** Available Device: _DeviceAttributes(/job:worker/replica:0/task:0/device:TPU:0, TPU, 0, 0)\n"
          ],
          "name": "stderr"
        },
        {
          "output_type": "stream",
          "text": [
            "INFO:tensorflow:*** Available Device: _DeviceAttributes(/job:worker/replica:0/task:0/device:TPU:1, TPU, 0, 0)\n"
          ],
          "name": "stdout"
        },
        {
          "output_type": "stream",
          "text": [
            "INFO:tensorflow:*** Available Device: _DeviceAttributes(/job:worker/replica:0/task:0/device:TPU:1, TPU, 0, 0)\n"
          ],
          "name": "stderr"
        },
        {
          "output_type": "stream",
          "text": [
            "INFO:tensorflow:*** Available Device: _DeviceAttributes(/job:worker/replica:0/task:0/device:TPU:2, TPU, 0, 0)\n"
          ],
          "name": "stdout"
        },
        {
          "output_type": "stream",
          "text": [
            "INFO:tensorflow:*** Available Device: _DeviceAttributes(/job:worker/replica:0/task:0/device:TPU:2, TPU, 0, 0)\n"
          ],
          "name": "stderr"
        },
        {
          "output_type": "stream",
          "text": [
            "INFO:tensorflow:*** Available Device: _DeviceAttributes(/job:worker/replica:0/task:0/device:TPU:3, TPU, 0, 0)\n"
          ],
          "name": "stdout"
        },
        {
          "output_type": "stream",
          "text": [
            "INFO:tensorflow:*** Available Device: _DeviceAttributes(/job:worker/replica:0/task:0/device:TPU:3, TPU, 0, 0)\n"
          ],
          "name": "stderr"
        },
        {
          "output_type": "stream",
          "text": [
            "INFO:tensorflow:*** Available Device: _DeviceAttributes(/job:worker/replica:0/task:0/device:TPU:4, TPU, 0, 0)\n"
          ],
          "name": "stdout"
        },
        {
          "output_type": "stream",
          "text": [
            "INFO:tensorflow:*** Available Device: _DeviceAttributes(/job:worker/replica:0/task:0/device:TPU:4, TPU, 0, 0)\n"
          ],
          "name": "stderr"
        },
        {
          "output_type": "stream",
          "text": [
            "INFO:tensorflow:*** Available Device: _DeviceAttributes(/job:worker/replica:0/task:0/device:TPU:5, TPU, 0, 0)\n"
          ],
          "name": "stdout"
        },
        {
          "output_type": "stream",
          "text": [
            "INFO:tensorflow:*** Available Device: _DeviceAttributes(/job:worker/replica:0/task:0/device:TPU:5, TPU, 0, 0)\n"
          ],
          "name": "stderr"
        },
        {
          "output_type": "stream",
          "text": [
            "INFO:tensorflow:*** Available Device: _DeviceAttributes(/job:worker/replica:0/task:0/device:TPU:6, TPU, 0, 0)\n"
          ],
          "name": "stdout"
        },
        {
          "output_type": "stream",
          "text": [
            "INFO:tensorflow:*** Available Device: _DeviceAttributes(/job:worker/replica:0/task:0/device:TPU:6, TPU, 0, 0)\n"
          ],
          "name": "stderr"
        },
        {
          "output_type": "stream",
          "text": [
            "INFO:tensorflow:*** Available Device: _DeviceAttributes(/job:worker/replica:0/task:0/device:TPU:7, TPU, 0, 0)\n"
          ],
          "name": "stdout"
        },
        {
          "output_type": "stream",
          "text": [
            "INFO:tensorflow:*** Available Device: _DeviceAttributes(/job:worker/replica:0/task:0/device:TPU:7, TPU, 0, 0)\n"
          ],
          "name": "stderr"
        },
        {
          "output_type": "stream",
          "text": [
            "INFO:tensorflow:*** Available Device: _DeviceAttributes(/job:worker/replica:0/task:0/device:TPU_SYSTEM:0, TPU_SYSTEM, 0, 0)\n"
          ],
          "name": "stdout"
        },
        {
          "output_type": "stream",
          "text": [
            "INFO:tensorflow:*** Available Device: _DeviceAttributes(/job:worker/replica:0/task:0/device:TPU_SYSTEM:0, TPU_SYSTEM, 0, 0)\n"
          ],
          "name": "stderr"
        },
        {
          "output_type": "stream",
          "text": [
            "INFO:tensorflow:*** Available Device: _DeviceAttributes(/job:worker/replica:0/task:0/device:XLA_CPU:0, XLA_CPU, 0, 0)\n"
          ],
          "name": "stdout"
        },
        {
          "output_type": "stream",
          "text": [
            "INFO:tensorflow:*** Available Device: _DeviceAttributes(/job:worker/replica:0/task:0/device:XLA_CPU:0, XLA_CPU, 0, 0)\n",
            "INFO:mead-transformers-tpu:Using 8 replicas in this job.\n"
          ],
          "name": "stderr"
        }
      ]
    },
    {
      "cell_type": "markdown",
      "metadata": {
        "id": "e4bSuLW26L0D",
        "colab_type": "text"
      },
      "source": [
        "We have defined our model and our loss function, as well as the initial step of our data pipeline using `TFRecordDataset`.  Now we will provide functions that will distribute our reader over each replica using the `strategy.experimental_distribute_datasets_from_function` API call, and batches the dataset into our per-replica dataset size. "
      ]
    },
    {
      "cell_type": "code",
      "metadata": {
        "id": "0hxAutT7EVCI",
        "colab_type": "code",
        "colab": {}
      },
      "source": [
        "BATCH_SIZE = 8 * 20\n",
        "TRAIN_BUCKET = \"gs://lm-sample/wt103/train\"\n",
        "VALID_BUCKET = \"gs://lm-sample/wt103/valid\"\n",
        "MD_TRAIN_FILE = \"./wt103/train/md.yml\"\n",
        "MD_TEST_FILE = \"./wt103/valid/md.yml\"\n",
        "\n",
        "def get_num_samples(f):\n",
        "    yml = read_yaml(f)\n",
        "    return yml['num_samples']\n",
        "\n",
        "def dataset_train_fn(input_context):\n",
        "    batch_size = input_context.get_per_replica_batch_size(BATCH_SIZE)\n",
        "    ds = get_dataset(TRAIN_BUCKET).batch(batch_size)\n",
        "    return ds.shard(\n",
        "        input_context.num_input_pipelines, input_context.input_pipeline_id\n",
        "    )\n",
        "train_loader = strategy.experimental_distribute_datasets_from_function(dataset_train_fn)\n",
        "\n",
        "def dataset_test_fn(input_context):\n",
        "    batch_size = input_context.get_per_replica_batch_size(BATCH_SIZE)\n",
        "    ds = get_dataset(VALID_BUCKET).batch(batch_size)\n",
        "    return ds.shard(\n",
        "        input_context.num_input_pipelines, input_context.input_pipeline_id\n",
        "    )\n",
        "valid_loader = strategy.experimental_distribute_datasets_from_function(dataset_test_fn)\n",
        "\n",
        "num_train_samples = get_num_samples(MD_TRAIN_FILE)\n",
        "num_valid_samples = get_num_samples(MD_TEST_FILE)"
      ],
      "execution_count": 0,
      "outputs": []
    },
    {
      "cell_type": "markdown",
      "metadata": {
        "id": "N_X1YPjV69pu",
        "colab_type": "text"
      },
      "source": [
        "Now we can create our loss function, and set some variables so we can get periodic updates while we train."
      ]
    },
    {
      "cell_type": "code",
      "metadata": {
        "id": "WumPrXLvGDlp",
        "colab_type": "code",
        "outputId": "849b74bf-0a67-42f7-f683-5ac8cbd25cce",
        "colab": {
          "base_uri": "https://localhost:8080/",
          "height": 34
        }
      },
      "source": [
        "loss_function = Loss(vocab_size, MLM_CONTEXT_LENGTH)\n",
        "steps_per_epoch = num_train_samples // BATCH_SIZE\n",
        "steps_per_valid_epoch = num_valid_samples // BATCH_SIZE\n",
        "update_on = steps_per_epoch // 10\n",
        "report_on = update_on // 10\n",
        "logger.info(f\"Steps per epoch: {steps_per_epoch}. Update every {update_on} steps.\")\n"
      ],
      "execution_count": 11,
      "outputs": [
        {
          "output_type": "stream",
          "text": [
            "INFO:mead-transformers-tpu:Steps per epoch: 2711. Update every 271 steps.\n"
          ],
          "name": "stderr"
        }
      ]
    },
    {
      "cell_type": "markdown",
      "metadata": {
        "id": "yFGrzt3t7J05",
        "colab_type": "text"
      },
      "source": [
        "The `8 mile` API provides an `EagerOptimizer` which takes in a loss function (or function object in our case) and applies it for every step of training to provide a per-replica loss.  We are going to create a learning regimen that starts with a linear warmup to the target learning rate over `WARMUP_STEPS` composed with learning rate scheduler that provides a cosine decay.\n",
        "\n",
        "We will specify that our model is to be trained with [adamw](https://www.fast.ai/2018/07/02/adam-weight-decay/) (we use the `tensorflow_addons` implementation underneath) with weight decay given by `WD` below:"
      ]
    },
    {
      "cell_type": "code",
      "metadata": {
        "id": "uMhh55X9IMCx",
        "colab_type": "code",
        "outputId": "738b3c02-8da6-4df4-c30a-5a298c0bc6ca",
        "colab": {
          "base_uri": "https://localhost:8080/",
          "height": 51
        }
      },
      "source": [
        "LR = 4.0e-4\n",
        "EPOCHS = 1\n",
        "GRAD_CLIP = 1.0\n",
        "OPTIM = \"adamw\"\n",
        "WD = 1.0e-2\n",
        "WARMUP_STEPS = 10000\n",
        "lr_decay = CosineDecaySchedulerTensorFlow(steps_per_epoch * EPOCHS, lr=LR)\n",
        "linear_warmup = WarmupLinearSchedulerTensorFlow(WARMUP_STEPS, lr=LR)\n",
        "lr_sched = CompositeLRSchedulerTensorFlow(linear_warmup, lr_decay)\n",
        "\n",
        "optimizer = EagerOptimizer(loss_function, global_step=1, lr=LR, optim=OPTIM,\n",
        "                           lr_function=lr_sched,\n",
        "                           weight_decay=WD, clip=GRAD_CLIP)"
      ],
      "execution_count": 12,
      "outputs": [
        {
          "output_type": "stream",
          "text": [
            "INFO:mead.layers:adamw(eta=0.000400 beta1=0.900000, beta2=0.999000, eps=0.000000, wd=0.010000)\n",
            "INFO:mead.layers:clip gradients at 1.0\n"
          ],
          "name": "stderr"
        }
      ]
    },
    {
      "cell_type": "markdown",
      "metadata": {
        "id": "L1Krt3L58JII",
        "colab_type": "text"
      },
      "source": [
        "We are going to define 2 autograph compiled functions, one for distributed training and one for distributed testing.  The implementations proxy to an underlying per-replica function which optimize and provide back the per-replica losses, which are accumulated in the distributed function.  These functions use the `strategy.experimental_run_v2` function to call the per-replica versions, and `strategy.reduce` to sum the results."
      ]
    },
    {
      "cell_type": "code",
      "metadata": {
        "id": "MLrkWby-LcqD",
        "colab_type": "code",
        "colab": {}
      },
      "source": [
        "\n",
        "def _replicated_train_step(inputs):\n",
        "    x, y = inputs\n",
        "    per_replica_loss = optimizer.update(model, {'x': x}, y, num_replicas)\n",
        "    return per_replica_loss\n",
        "\n",
        "@tf.function\n",
        "def _distributed_train_step(inputs: Tuple[tf.Tensor, tf.Tensor]):\n",
        "    per_replica_loss = strategy.experimental_run_v2(_replicated_train_step, args=(inputs,))\n",
        "    return strategy.reduce(tf.distribute.ReduceOp.SUM, per_replica_loss, axis=None)\n",
        "\n",
        "valid_loss_function = Loss(vocab_size, MLM_CONTEXT_LENGTH)\n",
        "\n",
        "def _replicated_test_step(inputs):\n",
        "    x, y = inputs\n",
        "    per_replica_loss = valid_loss_function(model, {'x': x}, y) / num_replicas\n",
        "    return per_replica_loss\n",
        "\n",
        "@tf.function\n",
        "def _distributed_test_step(inputs: Tuple[tf.Tensor, tf.Tensor]):\n",
        "    per_replica_loss = strategy.experimental_run_v2(_replicated_test_step, args=(inputs,))\n",
        "    return strategy.reduce(tf.distribute.ReduceOp.SUM, per_replica_loss, axis=None)"
      ],
      "execution_count": 0,
      "outputs": []
    },
    {
      "cell_type": "markdown",
      "metadata": {
        "id": "vFZ56p-B8oIx",
        "colab_type": "text"
      },
      "source": [
        "We have finally set up all the boilerplate and we can run a normal training loop.  The only difference for a distributed program within the training loop is that we call the operations within a `strategy.scope()`."
      ]
    },
    {
      "cell_type": "code",
      "metadata": {
        "id": "bMTTpSP_MCHL",
        "colab_type": "code",
        "outputId": "8a90cebd-1aa6-4dc8-d7a6-5b5df1f5ca8f",
        "colab": {
          "base_uri": "https://localhost:8080/",
          "height": 1000
        }
      },
      "source": [
        "start_epoch = 0\n",
        "\n",
        "with strategy.scope():\n",
        "\n",
        "    for epoch in range(start_epoch, EPOCHS):\n",
        "        SET_TRAIN_FLAG(True)\n",
        "        avg_loss = Average('average_train_loss')\n",
        "        metrics = {}\n",
        "        start = time.time()\n",
        "        train_iter = iter(train_loader)\n",
        "        for i in range(steps_per_epoch):\n",
        "            loss = _distributed_train_step(next(train_iter))\n",
        "            avg_loss.update(loss.numpy().item())\n",
        "            if (i + 1) % report_on == 0:\n",
        "                logging.info(avg_loss)\n",
        "            if (i + 1) % update_on == 0:\n",
        "                elapsed = (time.time() - start)/60\n",
        "                logging.info('elapsed time this epoch %d min', elapsed)\n",
        "                logging.info('elapsed step time %f steps/min', i/elapsed)\n",
        "\n",
        "        # How much time elapsed in minutes\n",
        "        elapsed = (time.time() - start)/60\n",
        "        train_token_loss = avg_loss.avg\n",
        "        # This is the average training token-level loss across all machines\n",
        "        # This is the token-level training perplexity\n",
        "        train_token_ppl = math.exp(train_token_loss)\n",
        "        metrics['train_elapsed_min'] = elapsed\n",
        "        metrics['average_train_loss'] = train_token_loss\n",
        "        metrics['train_ppl'] = train_token_ppl\n",
        "        metrics['lr'] = float(lr_sched(tf.cast(optimizer.global_step, tf.float32)).numpy().item())\n",
        "\n",
        "        avg_valid_loss = Average('average_valid_loss')\n",
        "        start = time.time()\n",
        "        SET_TRAIN_FLAG(False)\n",
        "        valid_iter = iter(valid_loader)\n",
        "        for i in range(steps_per_valid_epoch):\n",
        "            valid_loss = _distributed_test_step(next(valid_iter))\n",
        "            avg_valid_loss.update(valid_loss.numpy().item())\n",
        "\n",
        "        valid_token_loss = avg_valid_loss.avg\n",
        "        valid_token_ppl = math.exp(valid_token_loss)\n",
        "\n",
        "        elapsed = (time.time() - start)/60\n",
        "        metrics['valid_elapsed_min'] = elapsed\n",
        "        metrics['average_valid_loss'] = valid_token_loss\n",
        "        metrics['average_valid_token_ppl'] = valid_token_ppl\n",
        "        print(json.dumps(metrics, indent=4, sort_keys=True))"
      ],
      "execution_count": 14,
      "outputs": [
        {
          "output_type": "stream",
          "text": [
            "['gs://lm-sample/wt103/train/train-1.tfrecord', 'gs://lm-sample/wt103/train/train-2.tfrecord', 'gs://lm-sample/wt103/train/train-3.tfrecord']\n",
            "WARNING:tensorflow:From <ipython-input-13-fe20ef4dad89>:9: StrategyBase.experimental_run_v2 (from tensorflow.python.distribute.distribute_lib) is deprecated and will be removed in a future version.\n",
            "Instructions for updating:\n",
            "renamed to `run`\n"
          ],
          "name": "stdout"
        },
        {
          "output_type": "stream",
          "text": [
            "WARNING:tensorflow:From <ipython-input-13-fe20ef4dad89>:9: StrategyBase.experimental_run_v2 (from tensorflow.python.distribute.distribute_lib) is deprecated and will be removed in a future version.\n",
            "Instructions for updating:\n",
            "renamed to `run`\n",
            "INFO:root:average_train_loss 10.411058 (10.652811)\n",
            "INFO:root:average_train_loss 9.652229 (10.343955)\n",
            "INFO:root:average_train_loss 9.081723 (9.995737)\n",
            "INFO:root:average_train_loss 8.705839 (9.720788)\n",
            "INFO:root:average_train_loss 8.595488 (9.508689)\n",
            "INFO:root:average_train_loss 8.377563 (9.336676)\n",
            "INFO:root:average_train_loss 8.120317 (9.190224)\n",
            "INFO:root:average_train_loss 8.071484 (9.065736)\n",
            "INFO:root:average_train_loss 7.947022 (8.954754)\n",
            "INFO:root:average_train_loss 7.865461 (8.853060)\n",
            "INFO:root:elapsed time this epoch 2 min\n",
            "INFO:root:elapsed step time 120.231051 steps/min\n",
            "INFO:root:average_train_loss 7.733518 (8.761308)\n",
            "INFO:root:average_train_loss 7.735310 (8.677624)\n",
            "INFO:root:average_train_loss 7.569513 (8.598227)\n",
            "INFO:root:average_train_loss 7.388913 (8.521343)\n",
            "INFO:root:average_train_loss 7.338342 (8.450674)\n",
            "INFO:root:average_train_loss 7.372701 (8.383495)\n",
            "INFO:root:average_train_loss 7.221595 (8.319468)\n",
            "INFO:root:average_train_loss 7.103082 (8.259226)\n",
            "INFO:root:average_train_loss 7.092798 (8.200685)\n",
            "INFO:root:average_train_loss 6.994089 (8.145992)\n",
            "INFO:root:elapsed time this epoch 3 min\n",
            "INFO:root:elapsed step time 164.232157 steps/min\n",
            "INFO:root:average_train_loss 7.039787 (8.092198)\n",
            "INFO:root:average_train_loss 6.914550 (8.042261)\n",
            "INFO:root:average_train_loss 6.982695 (7.995315)\n",
            "INFO:root:average_train_loss 6.900369 (7.950199)\n",
            "INFO:root:average_train_loss 6.871748 (7.907047)\n",
            "INFO:root:average_train_loss 6.870135 (7.865976)\n",
            "INFO:root:average_train_loss 6.830515 (7.826890)\n",
            "INFO:root:average_train_loss 6.744460 (7.790107)\n",
            "INFO:root:average_train_loss 6.883003 (7.755363)\n",
            "INFO:root:average_train_loss 6.748899 (7.723149)\n",
            "INFO:root:elapsed time this epoch 4 min\n",
            "INFO:root:elapsed step time 187.622067 steps/min\n",
            "INFO:root:average_train_loss 6.687840 (7.691802)\n",
            "INFO:root:average_train_loss 6.774408 (7.661858)\n",
            "INFO:root:average_train_loss 6.690434 (7.632487)\n",
            "INFO:root:average_train_loss 6.719844 (7.604833)\n",
            "INFO:root:average_train_loss 6.839224 (7.579590)\n",
            "INFO:root:average_train_loss 6.764842 (7.555161)\n",
            "INFO:root:average_train_loss 6.717256 (7.531394)\n",
            "INFO:root:average_train_loss 6.551035 (7.508660)\n",
            "INFO:root:average_train_loss 6.558346 (7.486259)\n",
            "INFO:root:average_train_loss 6.709998 (7.465348)\n",
            "INFO:root:elapsed time this epoch 5 min\n",
            "INFO:root:elapsed step time 198.842125 steps/min\n",
            "INFO:root:average_train_loss 6.636398 (7.445018)\n",
            "INFO:root:average_train_loss 6.629435 (7.426153)\n",
            "INFO:root:average_train_loss 6.597105 (7.408343)\n",
            "INFO:root:average_train_loss 6.570883 (7.390555)\n",
            "INFO:root:average_train_loss 6.677005 (7.373518)\n",
            "INFO:root:average_train_loss 6.649683 (7.357560)\n",
            "INFO:root:average_train_loss 6.610821 (7.342100)\n",
            "INFO:root:average_train_loss 6.582731 (7.326988)\n",
            "INFO:root:average_train_loss 6.562827 (7.311844)\n",
            "INFO:root:average_train_loss 6.642628 (7.297574)\n",
            "INFO:root:elapsed time this epoch 6 min\n",
            "INFO:root:elapsed step time 209.090952 steps/min\n",
            "INFO:root:average_train_loss 6.648262 (7.283363)\n",
            "INFO:root:average_train_loss 6.534764 (7.269627)\n",
            "INFO:root:average_train_loss 6.556822 (7.255491)\n",
            "INFO:root:average_train_loss 6.519163 (7.241747)\n",
            "INFO:root:average_train_loss 6.489857 (7.228002)\n",
            "INFO:root:average_train_loss 6.446256 (7.214793)\n",
            "INFO:root:average_train_loss 6.291189 (7.201938)\n",
            "INFO:root:average_train_loss 6.401482 (7.189407)\n",
            "INFO:root:average_train_loss 6.321939 (7.176770)\n",
            "INFO:root:average_train_loss 6.613518 (7.164326)\n",
            "INFO:root:elapsed time this epoch 7 min\n",
            "INFO:root:elapsed step time 216.642942 steps/min\n",
            "INFO:root:average_train_loss 6.358268 (7.151655)\n",
            "INFO:root:average_train_loss 6.321227 (7.139038)\n",
            "INFO:root:average_train_loss 6.224354 (7.126708)\n",
            "INFO:root:average_train_loss 6.337611 (7.114283)\n",
            "INFO:root:average_train_loss 6.243485 (7.101826)\n",
            "INFO:root:average_train_loss 6.288535 (7.089178)\n",
            "INFO:root:average_train_loss 6.203185 (7.076976)\n",
            "INFO:root:average_train_loss 6.155167 (7.064319)\n",
            "INFO:root:average_train_loss 6.334538 (7.051853)\n",
            "INFO:root:average_train_loss 6.088462 (7.039040)\n",
            "INFO:root:elapsed time this epoch 8 min\n",
            "INFO:root:elapsed step time 221.052581 steps/min\n",
            "INFO:root:average_train_loss 5.996368 (7.026852)\n",
            "INFO:root:average_train_loss 6.184030 (7.014222)\n",
            "INFO:root:average_train_loss 6.073840 (7.002026)\n",
            "INFO:root:average_train_loss 6.016281 (6.989450)\n",
            "INFO:root:average_train_loss 6.065723 (6.977268)\n",
            "INFO:root:average_train_loss 6.120235 (6.964847)\n",
            "INFO:root:average_train_loss 6.071332 (6.952783)\n",
            "INFO:root:average_train_loss 5.962397 (6.940192)\n",
            "INFO:root:average_train_loss 6.097009 (6.928069)\n",
            "INFO:root:average_train_loss 5.909543 (6.915903)\n",
            "INFO:root:elapsed time this epoch 9 min\n",
            "INFO:root:elapsed step time 225.648254 steps/min\n",
            "INFO:root:average_train_loss 5.833439 (6.903546)\n",
            "INFO:root:average_train_loss 5.929310 (6.890967)\n",
            "INFO:root:average_train_loss 5.706798 (6.878463)\n",
            "INFO:root:average_train_loss 5.831301 (6.865813)\n",
            "INFO:root:average_train_loss 5.677863 (6.853515)\n",
            "INFO:root:average_train_loss 5.863094 (6.840360)\n",
            "INFO:root:average_train_loss 5.658903 (6.827570)\n",
            "INFO:root:average_train_loss 5.857340 (6.815131)\n",
            "INFO:root:average_train_loss 5.794589 (6.802259)\n",
            "INFO:root:average_train_loss 5.783670 (6.789503)\n",
            "INFO:root:elapsed time this epoch 10 min\n",
            "INFO:root:elapsed step time 229.278510 steps/min\n",
            "INFO:root:average_train_loss 5.638674 (6.776634)\n",
            "INFO:root:average_train_loss 5.696634 (6.763960)\n",
            "INFO:root:average_train_loss 5.447869 (6.751236)\n",
            "INFO:root:average_train_loss 5.665880 (6.738442)\n",
            "INFO:root:average_train_loss 5.383585 (6.725586)\n",
            "INFO:root:average_train_loss 5.353651 (6.712679)\n",
            "INFO:root:average_train_loss 5.279073 (6.699427)\n",
            "INFO:root:average_train_loss 5.353750 (6.686608)\n",
            "INFO:root:average_train_loss 5.514194 (6.673883)\n",
            "INFO:root:average_train_loss 5.396167 (6.661294)\n",
            "INFO:root:elapsed time this epoch 11 min\n",
            "INFO:root:elapsed step time 232.198809 steps/min\n"
          ],
          "name": "stderr"
        },
        {
          "output_type": "stream",
          "text": [
            "['gs://lm-sample/wt103/valid/valid-1.tfrecord']\n",
            "{\n",
            "    \"average_train_loss\": 6.656433918431253,\n",
            "    \"average_valid_loss\": 5.117080974578857,\n",
            "    \"average_valid_token_ppl\": 166.84762563819334,\n",
            "    \"lr\": 0.00010844000644283369,\n",
            "    \"train_elapsed_min\": 11.670666213830312,\n",
            "    \"train_ppl\": 777.7723860309276,\n",
            "    \"valid_elapsed_min\": 0.12434670527776083\n",
            "}\n"
          ],
          "name": "stdout"
        }
      ]
    },
    {
      "cell_type": "markdown",
      "metadata": {
        "id": "a0cE-Ije8-xY",
        "colab_type": "text"
      },
      "source": [
        "### Wrap-Up and Next Steps\n",
        "\n",
        "In this example, we used the MEAD/Baseline API code to train a Transformer Language Model on TPUs.  To keep things very simple, we did not write out any checkpoints or any training logs.  To see how you would do this with the `CheckpointManager`, see the [full API example](https://github.com/dpressel/mead-baseline/blob/master/api-examples/pretrain-tlm-tf.py).\n",
        "\n",
        "Also we only trained this for a single epoch.  For a compelling MLM you probably would want to run this for many epochs."
      ]
    }
  ]
}